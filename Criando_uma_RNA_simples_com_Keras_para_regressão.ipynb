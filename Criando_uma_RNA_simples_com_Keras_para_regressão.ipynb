{
  "nbformat": 4,
  "nbformat_minor": 0,
  "metadata": {
    "colab": {
      "provenance": [],
      "authorship_tag": "ABX9TyM8cwLwnv2ajxkMrgyfO+2U",
      "include_colab_link": true
    },
    "kernelspec": {
      "name": "python3",
      "display_name": "Python 3"
    },
    "language_info": {
      "name": "python"
    }
  },
  "cells": [
    {
      "cell_type": "markdown",
      "metadata": {
        "id": "view-in-github",
        "colab_type": "text"
      },
      "source": [
        "<a href=\"https://colab.research.google.com/github/FGalvao77/Criando-uma-RNA-simples-com-Keras-para-regressao/blob/main/Criando_uma_RNA_simples_com_Keras_para_regress%C3%A3o.ipynb\" target=\"_parent\"><img src=\"https://colab.research.google.com/assets/colab-badge.svg\" alt=\"Open In Colab\"/></a>"
      ]
    },
    {
      "cell_type": "markdown",
      "source": [
        "## **Criando uma RNA simples com Keras para regressão**\n",
        "---\n",
        "---"
      ],
      "metadata": {
        "id": "hSXHLDp9Taaj"
      }
    },
    {
      "cell_type": "code",
      "source": [
        "!curl https://didatica.tech/wp-content/uploads/2023/02/admission_dataset.csv >> admission.csv"
      ],
      "metadata": {
        "colab": {
          "base_uri": "https://localhost:8080/"
        },
        "id": "DKBJ0Zu-k1vi",
        "outputId": "6079b488-638d-4f1b-b5ec-1c3a27fcae08"
      },
      "execution_count": 1,
      "outputs": [
        {
          "output_type": "stream",
          "name": "stdout",
          "text": [
            "  % Total    % Received % Xferd  Average Speed   Time    Time     Time  Current\n",
            "                                 Dload  Upload   Total   Spent    Left  Speed\n",
            "\r  0     0    0     0    0     0      0      0 --:--:-- --:--:-- --:--:--     0\r  0     0    0     0    0     0      0      0 --:--:-- --:--:-- --:--:--     0\r100 12322  100 12322    0     0  49288      0 --:--:-- --:--:-- --:--:-- 49091\n"
          ]
        }
      ]
    },
    {
      "cell_type": "code",
      "source": [
        "!head admission.csv"
      ],
      "metadata": {
        "colab": {
          "base_uri": "https://localhost:8080/"
        },
        "id": "J6xAiS0Pk1tW",
        "outputId": "54a528e1-9696-4fd5-d9d4-0e5b4258b6b0"
      },
      "execution_count": 2,
      "outputs": [
        {
          "output_type": "stream",
          "name": "stdout",
          "text": [
            "GRE Score,TOEFL Score,University Rating,SOP,LOR ,CGPA,Research,Chance of Admit \r\n",
            "315,105,3,2.0,2.5,8.48,0,0.75\r\n",
            "321,112,5,5.0,5.0,9.06,1,0.86\r\n",
            "327,103,3,4.0,4.0,8.3,1,0.74\r\n",
            "305,112,3,3.0,3.5,8.65,0,0.71\r\n",
            "297,96,2,2.5,1.5,7.89,0,0.43\r\n",
            "321,109,3,3.0,4.0,8.2,1,0.75\r\n",
            "298,99,1,1.5,3.0,7.46,0,0.53\r\n",
            "312,109,3,3.0,3.0,8.69,0,0.77\r\n",
            "320,108,3,3.5,4.0,8.44,1,0.76\r\n"
          ]
        }
      ]
    },
    {
      "cell_type": "code",
      "execution_count": 3,
      "metadata": {
        "colab": {
          "base_uri": "https://localhost:8080/"
        },
        "id": "uWL-GZGHkt-D",
        "outputId": "7389f3cb-fc28-4b71-d960-fadacaed391f"
      },
      "outputs": [
        {
          "output_type": "stream",
          "name": "stdout",
          "text": [
            "VERSION: 2.11.0\n"
          ]
        }
      ],
      "source": [
        "import keras\n",
        "\n",
        "print(f'VERSION: {keras.__version__}')"
      ]
    },
    {
      "cell_type": "code",
      "source": [
        "import pandas as pd"
      ],
      "metadata": {
        "id": "mws5wAZ7k1yg"
      },
      "execution_count": 4,
      "outputs": []
    },
    {
      "cell_type": "code",
      "source": [
        "df = pd.read_csv(\n",
        "    filepath_or_buffer='admission.csv'\n",
        ")"
      ],
      "metadata": {
        "id": "98nPadRkk1rX"
      },
      "execution_count": 5,
      "outputs": []
    },
    {
      "cell_type": "code",
      "source": [
        "df.head()"
      ],
      "metadata": {
        "colab": {
          "base_uri": "https://localhost:8080/",
          "height": 206
        },
        "id": "5LMkgTPuk1o9",
        "outputId": "2c9fb1ea-1e37-4cab-e71a-dadf319eed60"
      },
      "execution_count": 6,
      "outputs": [
        {
          "output_type": "execute_result",
          "data": {
            "text/plain": [
              "   GRE Score  TOEFL Score  University Rating  SOP  LOR   CGPA  Research  \\\n",
              "0        315          105                  3  2.0   2.5  8.48         0   \n",
              "1        321          112                  5  5.0   5.0  9.06         1   \n",
              "2        327          103                  3  4.0   4.0  8.30         1   \n",
              "3        305          112                  3  3.0   3.5  8.65         0   \n",
              "4        297           96                  2  2.5   1.5  7.89         0   \n",
              "\n",
              "   Chance of Admit   \n",
              "0              0.75  \n",
              "1              0.86  \n",
              "2              0.74  \n",
              "3              0.71  \n",
              "4              0.43  "
            ],
            "text/html": [
              "\n",
              "  <div id=\"df-9423fdc5-e55c-4cff-a10b-bb0e8136ec4d\">\n",
              "    <div class=\"colab-df-container\">\n",
              "      <div>\n",
              "<style scoped>\n",
              "    .dataframe tbody tr th:only-of-type {\n",
              "        vertical-align: middle;\n",
              "    }\n",
              "\n",
              "    .dataframe tbody tr th {\n",
              "        vertical-align: top;\n",
              "    }\n",
              "\n",
              "    .dataframe thead th {\n",
              "        text-align: right;\n",
              "    }\n",
              "</style>\n",
              "<table border=\"1\" class=\"dataframe\">\n",
              "  <thead>\n",
              "    <tr style=\"text-align: right;\">\n",
              "      <th></th>\n",
              "      <th>GRE Score</th>\n",
              "      <th>TOEFL Score</th>\n",
              "      <th>University Rating</th>\n",
              "      <th>SOP</th>\n",
              "      <th>LOR</th>\n",
              "      <th>CGPA</th>\n",
              "      <th>Research</th>\n",
              "      <th>Chance of Admit</th>\n",
              "    </tr>\n",
              "  </thead>\n",
              "  <tbody>\n",
              "    <tr>\n",
              "      <th>0</th>\n",
              "      <td>315</td>\n",
              "      <td>105</td>\n",
              "      <td>3</td>\n",
              "      <td>2.0</td>\n",
              "      <td>2.5</td>\n",
              "      <td>8.48</td>\n",
              "      <td>0</td>\n",
              "      <td>0.75</td>\n",
              "    </tr>\n",
              "    <tr>\n",
              "      <th>1</th>\n",
              "      <td>321</td>\n",
              "      <td>112</td>\n",
              "      <td>5</td>\n",
              "      <td>5.0</td>\n",
              "      <td>5.0</td>\n",
              "      <td>9.06</td>\n",
              "      <td>1</td>\n",
              "      <td>0.86</td>\n",
              "    </tr>\n",
              "    <tr>\n",
              "      <th>2</th>\n",
              "      <td>327</td>\n",
              "      <td>103</td>\n",
              "      <td>3</td>\n",
              "      <td>4.0</td>\n",
              "      <td>4.0</td>\n",
              "      <td>8.30</td>\n",
              "      <td>1</td>\n",
              "      <td>0.74</td>\n",
              "    </tr>\n",
              "    <tr>\n",
              "      <th>3</th>\n",
              "      <td>305</td>\n",
              "      <td>112</td>\n",
              "      <td>3</td>\n",
              "      <td>3.0</td>\n",
              "      <td>3.5</td>\n",
              "      <td>8.65</td>\n",
              "      <td>0</td>\n",
              "      <td>0.71</td>\n",
              "    </tr>\n",
              "    <tr>\n",
              "      <th>4</th>\n",
              "      <td>297</td>\n",
              "      <td>96</td>\n",
              "      <td>2</td>\n",
              "      <td>2.5</td>\n",
              "      <td>1.5</td>\n",
              "      <td>7.89</td>\n",
              "      <td>0</td>\n",
              "      <td>0.43</td>\n",
              "    </tr>\n",
              "  </tbody>\n",
              "</table>\n",
              "</div>\n",
              "      <button class=\"colab-df-convert\" onclick=\"convertToInteractive('df-9423fdc5-e55c-4cff-a10b-bb0e8136ec4d')\"\n",
              "              title=\"Convert this dataframe to an interactive table.\"\n",
              "              style=\"display:none;\">\n",
              "        \n",
              "  <svg xmlns=\"http://www.w3.org/2000/svg\" height=\"24px\"viewBox=\"0 0 24 24\"\n",
              "       width=\"24px\">\n",
              "    <path d=\"M0 0h24v24H0V0z\" fill=\"none\"/>\n",
              "    <path d=\"M18.56 5.44l.94 2.06.94-2.06 2.06-.94-2.06-.94-.94-2.06-.94 2.06-2.06.94zm-11 1L8.5 8.5l.94-2.06 2.06-.94-2.06-.94L8.5 2.5l-.94 2.06-2.06.94zm10 10l.94 2.06.94-2.06 2.06-.94-2.06-.94-.94-2.06-.94 2.06-2.06.94z\"/><path d=\"M17.41 7.96l-1.37-1.37c-.4-.4-.92-.59-1.43-.59-.52 0-1.04.2-1.43.59L10.3 9.45l-7.72 7.72c-.78.78-.78 2.05 0 2.83L4 21.41c.39.39.9.59 1.41.59.51 0 1.02-.2 1.41-.59l7.78-7.78 2.81-2.81c.8-.78.8-2.07 0-2.86zM5.41 20L4 18.59l7.72-7.72 1.47 1.35L5.41 20z\"/>\n",
              "  </svg>\n",
              "      </button>\n",
              "      \n",
              "  <style>\n",
              "    .colab-df-container {\n",
              "      display:flex;\n",
              "      flex-wrap:wrap;\n",
              "      gap: 12px;\n",
              "    }\n",
              "\n",
              "    .colab-df-convert {\n",
              "      background-color: #E8F0FE;\n",
              "      border: none;\n",
              "      border-radius: 50%;\n",
              "      cursor: pointer;\n",
              "      display: none;\n",
              "      fill: #1967D2;\n",
              "      height: 32px;\n",
              "      padding: 0 0 0 0;\n",
              "      width: 32px;\n",
              "    }\n",
              "\n",
              "    .colab-df-convert:hover {\n",
              "      background-color: #E2EBFA;\n",
              "      box-shadow: 0px 1px 2px rgba(60, 64, 67, 0.3), 0px 1px 3px 1px rgba(60, 64, 67, 0.15);\n",
              "      fill: #174EA6;\n",
              "    }\n",
              "\n",
              "    [theme=dark] .colab-df-convert {\n",
              "      background-color: #3B4455;\n",
              "      fill: #D2E3FC;\n",
              "    }\n",
              "\n",
              "    [theme=dark] .colab-df-convert:hover {\n",
              "      background-color: #434B5C;\n",
              "      box-shadow: 0px 1px 3px 1px rgba(0, 0, 0, 0.15);\n",
              "      filter: drop-shadow(0px 1px 2px rgba(0, 0, 0, 0.3));\n",
              "      fill: #FFFFFF;\n",
              "    }\n",
              "  </style>\n",
              "\n",
              "      <script>\n",
              "        const buttonEl =\n",
              "          document.querySelector('#df-9423fdc5-e55c-4cff-a10b-bb0e8136ec4d button.colab-df-convert');\n",
              "        buttonEl.style.display =\n",
              "          google.colab.kernel.accessAllowed ? 'block' : 'none';\n",
              "\n",
              "        async function convertToInteractive(key) {\n",
              "          const element = document.querySelector('#df-9423fdc5-e55c-4cff-a10b-bb0e8136ec4d');\n",
              "          const dataTable =\n",
              "            await google.colab.kernel.invokeFunction('convertToInteractive',\n",
              "                                                     [key], {});\n",
              "          if (!dataTable) return;\n",
              "\n",
              "          const docLinkHtml = 'Like what you see? Visit the ' +\n",
              "            '<a target=\"_blank\" href=https://colab.research.google.com/notebooks/data_table.ipynb>data table notebook</a>'\n",
              "            + ' to learn more about interactive tables.';\n",
              "          element.innerHTML = '';\n",
              "          dataTable['output_type'] = 'display_data';\n",
              "          await google.colab.output.renderOutput(dataTable, element);\n",
              "          const docLink = document.createElement('div');\n",
              "          docLink.innerHTML = docLinkHtml;\n",
              "          element.appendChild(docLink);\n",
              "        }\n",
              "      </script>\n",
              "    </div>\n",
              "  </div>\n",
              "  "
            ]
          },
          "metadata": {},
          "execution_count": 6
        }
      ]
    },
    {
      "cell_type": "code",
      "source": [
        "X  = df.drop(columns='Chance of Admit ', axis=1)\n",
        "y = df['Chance of Admit ']"
      ],
      "metadata": {
        "id": "OwXTxcm4k1m4"
      },
      "execution_count": 7,
      "outputs": []
    },
    {
      "cell_type": "code",
      "source": [
        "X_train, X_val = X[0:300], X[300:]\n",
        "y_train, y_val = y[0:300], y[300:]"
      ],
      "metadata": {
        "id": "WPC0oLWJk1kz"
      },
      "execution_count": 8,
      "outputs": []
    },
    {
      "cell_type": "code",
      "source": [
        "X_train.shape"
      ],
      "metadata": {
        "colab": {
          "base_uri": "https://localhost:8080/"
        },
        "id": "BF2vmdShk1ib",
        "outputId": "a162f5d4-a965-4df9-ab75-4ccf72c11dce"
      },
      "execution_count": 9,
      "outputs": [
        {
          "output_type": "execute_result",
          "data": {
            "text/plain": [
              "(300, 7)"
            ]
          },
          "metadata": {},
          "execution_count": 9
        }
      ]
    },
    {
      "cell_type": "code",
      "source": [
        "from keras.models import Sequential\n",
        "from keras.layers import Dense, Dropout"
      ],
      "metadata": {
        "id": "LzHLKEtrk1gC"
      },
      "execution_count": 10,
      "outputs": []
    },
    {
      "cell_type": "code",
      "source": [
        "model = Sequential()\n",
        "\n",
        "model.add(Dense(units=3, activation='relu', input_dim=7))\n",
        "model.add(Dropout(rate=0.5))\n",
        "model.add(Dense(units=1, activation='linear'))"
      ],
      "metadata": {
        "id": "HE-JZJkRk1da"
      },
      "execution_count": 11,
      "outputs": []
    },
    {
      "cell_type": "code",
      "source": [
        "model.summary()"
      ],
      "metadata": {
        "colab": {
          "base_uri": "https://localhost:8080/"
        },
        "id": "BxMtMhXYoA6-",
        "outputId": "e31beb97-924e-44d0-9db6-f1485cf80b33"
      },
      "execution_count": 12,
      "outputs": [
        {
          "output_type": "stream",
          "name": "stdout",
          "text": [
            "Model: \"sequential\"\n",
            "_________________________________________________________________\n",
            " Layer (type)                Output Shape              Param #   \n",
            "=================================================================\n",
            " dense (Dense)               (None, 3)                 24        \n",
            "                                                                 \n",
            " dropout (Dropout)           (None, 3)                 0         \n",
            "                                                                 \n",
            " dense_1 (Dense)             (None, 1)                 4         \n",
            "                                                                 \n",
            "=================================================================\n",
            "Total params: 28\n",
            "Trainable params: 28\n",
            "Non-trainable params: 0\n",
            "_________________________________________________________________\n"
          ]
        }
      ]
    },
    {
      "cell_type": "code",
      "source": [
        "model.compile(\n",
        "    optimizer='adam',\n",
        "    loss='mse',\n",
        "    metrics=['mae']\n",
        ")"
      ],
      "metadata": {
        "id": "uYYMiwrXmvc1"
      },
      "execution_count": 13,
      "outputs": []
    },
    {
      "cell_type": "code",
      "source": [
        "history = model.fit(\n",
        "    x=X_train, y=y_train,\n",
        "    batch_size=32,\n",
        "    epochs=200,\n",
        "    validation_data=(X_val, y_val)\n",
        ")"
      ],
      "metadata": {
        "colab": {
          "base_uri": "https://localhost:8080/"
        },
        "id": "YnGJrkk2mvZy",
        "outputId": "82251dbd-b7b3-4b4b-c576-aa3366c72b19"
      },
      "execution_count": 14,
      "outputs": [
        {
          "output_type": "stream",
          "name": "stdout",
          "text": [
            "Epoch 1/200\n",
            "10/10 [==============================] - 2s 44ms/step - loss: 1690.6840 - mae: 29.9648 - val_loss: 763.6074 - val_mae: 27.6159\n",
            "Epoch 2/200\n",
            "10/10 [==============================] - 0s 14ms/step - loss: 1549.2065 - mae: 29.7371 - val_loss: 650.3431 - val_mae: 25.4854\n",
            "Epoch 3/200\n",
            "10/10 [==============================] - 0s 15ms/step - loss: 1226.3210 - mae: 25.6475 - val_loss: 554.7713 - val_mae: 23.5383\n",
            "Epoch 4/200\n",
            "10/10 [==============================] - 0s 11ms/step - loss: 1023.4152 - mae: 23.0915 - val_loss: 476.2668 - val_mae: 21.8091\n",
            "Epoch 5/200\n",
            "10/10 [==============================] - 0s 10ms/step - loss: 856.5030 - mae: 20.9510 - val_loss: 412.0601 - val_mae: 20.2857\n",
            "Epoch 6/200\n",
            "10/10 [==============================] - 0s 12ms/step - loss: 772.1420 - mae: 20.2797 - val_loss: 358.3108 - val_mae: 18.9163\n",
            "Epoch 7/200\n",
            "10/10 [==============================] - 0s 9ms/step - loss: 633.5531 - mae: 17.8860 - val_loss: 313.1333 - val_mae: 17.6834\n",
            "Epoch 8/200\n",
            "10/10 [==============================] - 0s 13ms/step - loss: 582.9686 - mae: 17.6042 - val_loss: 273.6222 - val_mae: 16.5299\n",
            "Epoch 9/200\n",
            "10/10 [==============================] - 0s 10ms/step - loss: 488.8442 - mae: 15.7877 - val_loss: 239.7100 - val_mae: 15.4715\n",
            "Epoch 10/200\n",
            "10/10 [==============================] - 0s 17ms/step - loss: 482.9154 - mae: 16.6567 - val_loss: 209.8278 - val_mae: 14.4749\n",
            "Epoch 11/200\n",
            "10/10 [==============================] - 0s 10ms/step - loss: 357.5340 - mae: 13.3743 - val_loss: 184.9843 - val_mae: 13.5908\n",
            "Epoch 12/200\n",
            "10/10 [==============================] - 0s 9ms/step - loss: 315.7645 - mae: 12.5438 - val_loss: 164.5211 - val_mae: 12.8169\n",
            "Epoch 13/200\n",
            "10/10 [==============================] - 0s 25ms/step - loss: 308.9252 - mae: 12.9147 - val_loss: 146.0859 - val_mae: 12.0773\n",
            "Epoch 14/200\n",
            "10/10 [==============================] - 0s 26ms/step - loss: 246.7921 - mae: 11.0825 - val_loss: 130.7839 - val_mae: 11.4271\n",
            "Epoch 15/200\n",
            "10/10 [==============================] - 0s 23ms/step - loss: 205.9425 - mae: 9.8218 - val_loss: 117.9970 - val_mae: 10.8539\n",
            "Epoch 16/200\n",
            "10/10 [==============================] - 0s 30ms/step - loss: 203.7898 - mae: 10.1519 - val_loss: 106.5954 - val_mae: 10.3160\n",
            "Epoch 17/200\n",
            "10/10 [==============================] - 0s 24ms/step - loss: 186.0703 - mae: 9.7805 - val_loss: 96.3878 - val_mae: 9.8095\n",
            "Epoch 18/200\n",
            "10/10 [==============================] - 0s 19ms/step - loss: 188.4532 - mae: 10.3448 - val_loss: 86.7876 - val_mae: 9.3080\n",
            "Epoch 19/200\n",
            "10/10 [==============================] - 0s 23ms/step - loss: 151.7795 - mae: 8.8795 - val_loss: 78.4342 - val_mae: 8.8486\n",
            "Epoch 20/200\n",
            "10/10 [==============================] - 0s 23ms/step - loss: 130.4949 - mae: 8.0732 - val_loss: 71.3214 - val_mae: 8.4376\n",
            "Epoch 21/200\n",
            "10/10 [==============================] - 0s 20ms/step - loss: 126.7897 - mae: 8.2136 - val_loss: 65.0727 - val_mae: 8.0594\n",
            "Epoch 22/200\n",
            "10/10 [==============================] - 0s 11ms/step - loss: 108.7708 - mae: 7.4483 - val_loss: 59.3931 - val_mae: 7.6995\n",
            "Epoch 23/200\n",
            "10/10 [==============================] - 0s 20ms/step - loss: 99.1920 - mae: 7.0873 - val_loss: 54.3317 - val_mae: 7.3640\n",
            "Epoch 24/200\n",
            "10/10 [==============================] - 0s 18ms/step - loss: 98.0096 - mae: 7.3338 - val_loss: 49.6324 - val_mae: 7.0381\n",
            "Epoch 25/200\n",
            "10/10 [==============================] - 0s 21ms/step - loss: 85.7014 - mae: 6.7338 - val_loss: 45.2742 - val_mae: 6.7219\n",
            "Epoch 26/200\n",
            "10/10 [==============================] - 0s 20ms/step - loss: 77.6113 - mae: 6.4027 - val_loss: 41.6974 - val_mae: 6.4507\n",
            "Epoch 27/200\n",
            "10/10 [==============================] - 0s 35ms/step - loss: 79.1059 - mae: 6.7575 - val_loss: 38.1498 - val_mae: 6.1700\n",
            "Epoch 28/200\n",
            "10/10 [==============================] - 0s 30ms/step - loss: 71.3768 - mae: 6.4139 - val_loss: 34.9851 - val_mae: 5.9084\n",
            "Epoch 29/200\n",
            "10/10 [==============================] - 0s 44ms/step - loss: 60.8208 - mae: 5.7603 - val_loss: 32.1718 - val_mae: 5.6657\n",
            "Epoch 30/200\n",
            "10/10 [==============================] - 0s 33ms/step - loss: 54.6912 - mae: 5.4032 - val_loss: 29.6192 - val_mae: 5.4362\n",
            "Epoch 31/200\n",
            "10/10 [==============================] - 0s 15ms/step - loss: 52.4238 - mae: 5.4218 - val_loss: 27.3463 - val_mae: 5.2233\n",
            "Epoch 32/200\n",
            "10/10 [==============================] - 0s 26ms/step - loss: 50.6746 - mae: 5.4637 - val_loss: 25.2524 - val_mae: 5.0192\n",
            "Epoch 33/200\n",
            "10/10 [==============================] - 0s 25ms/step - loss: 38.9413 - mae: 4.4362 - val_loss: 23.3647 - val_mae: 4.8278\n",
            "Epoch 34/200\n",
            "10/10 [==============================] - 0s 32ms/step - loss: 42.0553 - mae: 4.9103 - val_loss: 21.6522 - val_mae: 4.6473\n",
            "Epoch 35/200\n",
            "10/10 [==============================] - 0s 23ms/step - loss: 37.8004 - mae: 4.6244 - val_loss: 20.0259 - val_mae: 4.4692\n",
            "Epoch 36/200\n",
            "10/10 [==============================] - 0s 26ms/step - loss: 35.6513 - mae: 4.5269 - val_loss: 18.5441 - val_mae: 4.3005\n",
            "Epoch 37/200\n",
            "10/10 [==============================] - 0s 23ms/step - loss: 32.9252 - mae: 4.3622 - val_loss: 17.1663 - val_mae: 4.1375\n",
            "Epoch 38/200\n",
            "10/10 [==============================] - 0s 34ms/step - loss: 27.6890 - mae: 3.8770 - val_loss: 15.9260 - val_mae: 3.9851\n",
            "Epoch 39/200\n",
            "10/10 [==============================] - 0s 31ms/step - loss: 26.5167 - mae: 3.8471 - val_loss: 14.8206 - val_mae: 3.8441\n",
            "Epoch 40/200\n",
            "10/10 [==============================] - 0s 19ms/step - loss: 23.5036 - mae: 3.5690 - val_loss: 13.8359 - val_mae: 3.7141\n",
            "Epoch 41/200\n",
            "10/10 [==============================] - 0s 15ms/step - loss: 24.6491 - mae: 3.8258 - val_loss: 12.8721 - val_mae: 3.5822\n",
            "Epoch 42/200\n",
            "10/10 [==============================] - 0s 16ms/step - loss: 19.9050 - mae: 3.2679 - val_loss: 12.0062 - val_mae: 3.4594\n",
            "Epoch 43/200\n",
            "10/10 [==============================] - 0s 10ms/step - loss: 20.8210 - mae: 3.5183 - val_loss: 11.1803 - val_mae: 3.3382\n",
            "Epoch 44/200\n",
            "10/10 [==============================] - 0s 12ms/step - loss: 18.0313 - mae: 3.1712 - val_loss: 10.4288 - val_mae: 3.2238\n",
            "Epoch 45/200\n",
            "10/10 [==============================] - 0s 14ms/step - loss: 18.0506 - mae: 3.2957 - val_loss: 9.7244 - val_mae: 3.1129\n",
            "Epoch 46/200\n",
            "10/10 [==============================] - 0s 11ms/step - loss: 15.9255 - mae: 3.0252 - val_loss: 9.0739 - val_mae: 3.0068\n",
            "Epoch 47/200\n",
            "10/10 [==============================] - 0s 9ms/step - loss: 15.1911 - mae: 2.9890 - val_loss: 8.4576 - val_mae: 2.9027\n",
            "Epoch 48/200\n",
            "10/10 [==============================] - 0s 10ms/step - loss: 14.0087 - mae: 2.8993 - val_loss: 7.8819 - val_mae: 2.8019\n",
            "Epoch 49/200\n",
            "10/10 [==============================] - 0s 12ms/step - loss: 13.7283 - mae: 2.9018 - val_loss: 7.3392 - val_mae: 2.7035\n",
            "Epoch 50/200\n",
            "10/10 [==============================] - 0s 26ms/step - loss: 11.8789 - mae: 2.6647 - val_loss: 6.8407 - val_mae: 2.6099\n",
            "Epoch 51/200\n",
            "10/10 [==============================] - 0s 16ms/step - loss: 11.0521 - mae: 2.5805 - val_loss: 6.3856 - val_mae: 2.5213\n",
            "Epoch 52/200\n",
            "10/10 [==============================] - 0s 17ms/step - loss: 10.0329 - mae: 2.4470 - val_loss: 5.9870 - val_mae: 2.4412\n",
            "Epoch 53/200\n",
            "10/10 [==============================] - 0s 12ms/step - loss: 9.2607 - mae: 2.3351 - val_loss: 5.6140 - val_mae: 2.3637\n",
            "Epoch 54/200\n",
            "10/10 [==============================] - 0s 11ms/step - loss: 8.5152 - mae: 2.2387 - val_loss: 5.2759 - val_mae: 2.2912\n",
            "Epoch 55/200\n",
            "10/10 [==============================] - 0s 47ms/step - loss: 8.6436 - mae: 2.3128 - val_loss: 4.9421 - val_mae: 2.2173\n",
            "Epoch 56/200\n",
            "10/10 [==============================] - 0s 14ms/step - loss: 8.3913 - mae: 2.3126 - val_loss: 4.6197 - val_mae: 2.1435\n",
            "Epoch 57/200\n",
            "10/10 [==============================] - 0s 11ms/step - loss: 6.4946 - mae: 1.9395 - val_loss: 4.3243 - val_mae: 2.0735\n",
            "Epoch 58/200\n",
            "10/10 [==============================] - 0s 10ms/step - loss: 6.3469 - mae: 1.9487 - val_loss: 4.0596 - val_mae: 2.0088\n",
            "Epoch 59/200\n",
            "10/10 [==============================] - 0s 11ms/step - loss: 6.8001 - mae: 2.1098 - val_loss: 3.8012 - val_mae: 1.9436\n",
            "Epoch 60/200\n",
            "10/10 [==============================] - 0s 11ms/step - loss: 5.8599 - mae: 1.9136 - val_loss: 3.5527 - val_mae: 1.8787\n",
            "Epoch 61/200\n",
            "10/10 [==============================] - 0s 18ms/step - loss: 5.2959 - mae: 1.8261 - val_loss: 3.3284 - val_mae: 1.8181\n",
            "Epoch 62/200\n",
            "10/10 [==============================] - 0s 21ms/step - loss: 5.7762 - mae: 1.9967 - val_loss: 3.1053 - val_mae: 1.7558\n",
            "Epoch 63/200\n",
            "10/10 [==============================] - 0s 17ms/step - loss: 4.6348 - mae: 1.7167 - val_loss: 2.8936 - val_mae: 1.6945\n",
            "Epoch 64/200\n",
            "10/10 [==============================] - 0s 11ms/step - loss: 4.8139 - mae: 1.8234 - val_loss: 2.6923 - val_mae: 1.6341\n",
            "Epoch 65/200\n",
            "10/10 [==============================] - 0s 21ms/step - loss: 3.9043 - mae: 1.5919 - val_loss: 2.5065 - val_mae: 1.5764\n",
            "Epoch 66/200\n",
            "10/10 [==============================] - 0s 12ms/step - loss: 3.2583 - mae: 1.4303 - val_loss: 2.3503 - val_mae: 1.5261\n",
            "Epoch 67/200\n",
            "10/10 [==============================] - 0s 12ms/step - loss: 3.4090 - mae: 1.5007 - val_loss: 2.2033 - val_mae: 1.4772\n",
            "Epoch 68/200\n",
            "10/10 [==============================] - 0s 21ms/step - loss: 3.2110 - mae: 1.4586 - val_loss: 2.0648 - val_mae: 1.4297\n",
            "Epoch 69/200\n",
            "10/10 [==============================] - 0s 11ms/step - loss: 2.8499 - mae: 1.3807 - val_loss: 1.9313 - val_mae: 1.3823\n",
            "Epoch 70/200\n",
            "10/10 [==============================] - 0s 12ms/step - loss: 2.6080 - mae: 1.3168 - val_loss: 1.8108 - val_mae: 1.3381\n",
            "Epoch 71/200\n",
            "10/10 [==============================] - 0s 13ms/step - loss: 2.6047 - mae: 1.3460 - val_loss: 1.6966 - val_mae: 1.2948\n",
            "Epoch 72/200\n",
            "10/10 [==============================] - 0s 14ms/step - loss: 2.3385 - mae: 1.2586 - val_loss: 1.5885 - val_mae: 1.2524\n",
            "Epoch 73/200\n",
            "10/10 [==============================] - 0s 11ms/step - loss: 2.3193 - mae: 1.2845 - val_loss: 1.4875 - val_mae: 1.2115\n",
            "Epoch 74/200\n",
            "10/10 [==============================] - 0s 11ms/step - loss: 2.1879 - mae: 1.2523 - val_loss: 1.3893 - val_mae: 1.1703\n",
            "Epoch 75/200\n",
            "10/10 [==============================] - 0s 10ms/step - loss: 1.7500 - mae: 1.0911 - val_loss: 1.2994 - val_mae: 1.1313\n",
            "Epoch 76/200\n",
            "10/10 [==============================] - 0s 13ms/step - loss: 1.7414 - mae: 1.1170 - val_loss: 1.2158 - val_mae: 1.0938\n",
            "Epoch 77/200\n",
            "10/10 [==============================] - 0s 12ms/step - loss: 1.6125 - mae: 1.0939 - val_loss: 1.1365 - val_mae: 1.0570\n",
            "Epoch 78/200\n",
            "10/10 [==============================] - 0s 9ms/step - loss: 1.5517 - mae: 1.0724 - val_loss: 1.0615 - val_mae: 1.0210\n",
            "Epoch 79/200\n",
            "10/10 [==============================] - 0s 13ms/step - loss: 1.3976 - mae: 1.0190 - val_loss: 0.9913 - val_mae: 0.9861\n",
            "Epoch 80/200\n",
            "10/10 [==============================] - 0s 11ms/step - loss: 1.2457 - mae: 0.9461 - val_loss: 0.9265 - val_mae: 0.9527\n",
            "Epoch 81/200\n",
            "10/10 [==============================] - 0s 29ms/step - loss: 1.2309 - mae: 0.9689 - val_loss: 0.8680 - val_mae: 0.9215\n",
            "Epoch 82/200\n",
            "10/10 [==============================] - 0s 10ms/step - loss: 1.0753 - mae: 0.8990 - val_loss: 0.8130 - val_mae: 0.8913\n",
            "Epoch 83/200\n",
            "10/10 [==============================] - 0s 11ms/step - loss: 0.9846 - mae: 0.8695 - val_loss: 0.7635 - val_mae: 0.8630\n",
            "Epoch 84/200\n",
            "10/10 [==============================] - 0s 10ms/step - loss: 0.9552 - mae: 0.8671 - val_loss: 0.7143 - val_mae: 0.8341\n",
            "Epoch 85/200\n",
            "10/10 [==============================] - 0s 11ms/step - loss: 0.8722 - mae: 0.8297 - val_loss: 0.6688 - val_mae: 0.8064\n",
            "Epoch 86/200\n",
            "10/10 [==============================] - 0s 10ms/step - loss: 0.8009 - mae: 0.7993 - val_loss: 0.6259 - val_mae: 0.7794\n",
            "Epoch 87/200\n",
            "10/10 [==============================] - 0s 16ms/step - loss: 0.6737 - mae: 0.7315 - val_loss: 0.5880 - val_mae: 0.7547\n",
            "Epoch 88/200\n",
            "10/10 [==============================] - 0s 15ms/step - loss: 0.6667 - mae: 0.7311 - val_loss: 0.5543 - val_mae: 0.7321\n",
            "Epoch 89/200\n",
            "10/10 [==============================] - 0s 18ms/step - loss: 0.6162 - mae: 0.7091 - val_loss: 0.5226 - val_mae: 0.7101\n",
            "Epoch 90/200\n",
            "10/10 [==============================] - 0s 12ms/step - loss: 0.6052 - mae: 0.7129 - val_loss: 0.4915 - val_mae: 0.6879\n",
            "Epoch 91/200\n",
            "10/10 [==============================] - 0s 17ms/step - loss: 0.5360 - mae: 0.6606 - val_loss: 0.4630 - val_mae: 0.6669\n",
            "Epoch 92/200\n",
            "10/10 [==============================] - 0s 10ms/step - loss: 0.5083 - mae: 0.6568 - val_loss: 0.4364 - val_mae: 0.6467\n",
            "Epoch 93/200\n",
            "10/10 [==============================] - 0s 12ms/step - loss: 0.4964 - mae: 0.6434 - val_loss: 0.4101 - val_mae: 0.6261\n",
            "Epoch 94/200\n",
            "10/10 [==============================] - 0s 13ms/step - loss: 0.4312 - mae: 0.6037 - val_loss: 0.3862 - val_mae: 0.6067\n",
            "Epoch 95/200\n",
            "10/10 [==============================] - 0s 11ms/step - loss: 0.3985 - mae: 0.5858 - val_loss: 0.3643 - val_mae: 0.5884\n",
            "Epoch 96/200\n",
            "10/10 [==============================] - 0s 17ms/step - loss: 0.3897 - mae: 0.5827 - val_loss: 0.3439 - val_mae: 0.5708\n",
            "Epoch 97/200\n",
            "10/10 [==============================] - 0s 16ms/step - loss: 0.3619 - mae: 0.5606 - val_loss: 0.3242 - val_mae: 0.5533\n",
            "Epoch 98/200\n",
            "10/10 [==============================] - 0s 14ms/step - loss: 0.3495 - mae: 0.5564 - val_loss: 0.3055 - val_mae: 0.5362\n",
            "Epoch 99/200\n",
            "10/10 [==============================] - 0s 21ms/step - loss: 0.3180 - mae: 0.5333 - val_loss: 0.2873 - val_mae: 0.5189\n",
            "Epoch 100/200\n",
            "10/10 [==============================] - 0s 11ms/step - loss: 0.2891 - mae: 0.5059 - val_loss: 0.2713 - val_mae: 0.5033\n",
            "Epoch 101/200\n",
            "10/10 [==============================] - 0s 13ms/step - loss: 0.2660 - mae: 0.4868 - val_loss: 0.2568 - val_mae: 0.4887\n",
            "Epoch 102/200\n",
            "10/10 [==============================] - 0s 12ms/step - loss: 0.2615 - mae: 0.4851 - val_loss: 0.2427 - val_mae: 0.4741\n",
            "Epoch 103/200\n",
            "10/10 [==============================] - 0s 10ms/step - loss: 0.2410 - mae: 0.4638 - val_loss: 0.2294 - val_mae: 0.4599\n",
            "Epoch 104/200\n",
            "10/10 [==============================] - 0s 11ms/step - loss: 0.2249 - mae: 0.4481 - val_loss: 0.2180 - val_mae: 0.4473\n",
            "Epoch 105/200\n",
            "10/10 [==============================] - 0s 14ms/step - loss: 0.2199 - mae: 0.4442 - val_loss: 0.2068 - val_mae: 0.4346\n",
            "Epoch 106/200\n",
            "10/10 [==============================] - 0s 16ms/step - loss: 0.2022 - mae: 0.4248 - val_loss: 0.1967 - val_mae: 0.4228\n",
            "Epoch 107/200\n",
            "10/10 [==============================] - 0s 11ms/step - loss: 0.1941 - mae: 0.4157 - val_loss: 0.1876 - val_mae: 0.4119\n",
            "Epoch 108/200\n",
            "10/10 [==============================] - 0s 20ms/step - loss: 0.1853 - mae: 0.4050 - val_loss: 0.1789 - val_mae: 0.4012\n",
            "Epoch 109/200\n",
            "10/10 [==============================] - 0s 26ms/step - loss: 0.1770 - mae: 0.3948 - val_loss: 0.1706 - val_mae: 0.3908\n",
            "Epoch 110/200\n",
            "10/10 [==============================] - 0s 23ms/step - loss: 0.1691 - mae: 0.3844 - val_loss: 0.1623 - val_mae: 0.3801\n",
            "Epoch 111/200\n",
            "10/10 [==============================] - 0s 32ms/step - loss: 0.1605 - mae: 0.3730 - val_loss: 0.1549 - val_mae: 0.3701\n",
            "Epoch 112/200\n",
            "10/10 [==============================] - 0s 24ms/step - loss: 0.1585 - mae: 0.3703 - val_loss: 0.1482 - val_mae: 0.3610\n",
            "Epoch 113/200\n",
            "10/10 [==============================] - 0s 32ms/step - loss: 0.1522 - mae: 0.3595 - val_loss: 0.1423 - val_mae: 0.3528\n",
            "Epoch 114/200\n",
            "10/10 [==============================] - 0s 50ms/step - loss: 0.1444 - mae: 0.3487 - val_loss: 0.1366 - val_mae: 0.3446\n",
            "Epoch 115/200\n",
            "10/10 [==============================] - 0s 45ms/step - loss: 0.1447 - mae: 0.3485 - val_loss: 0.1315 - val_mae: 0.3371\n",
            "Epoch 116/200\n",
            "10/10 [==============================] - 0s 39ms/step - loss: 0.1329 - mae: 0.3336 - val_loss: 0.1265 - val_mae: 0.3295\n",
            "Epoch 117/200\n",
            "10/10 [==============================] - 0s 31ms/step - loss: 0.1328 - mae: 0.3265 - val_loss: 0.1216 - val_mae: 0.3220\n",
            "Epoch 118/200\n",
            "10/10 [==============================] - 0s 16ms/step - loss: 0.1238 - mae: 0.3172 - val_loss: 0.1168 - val_mae: 0.3146\n",
            "Epoch 119/200\n",
            "10/10 [==============================] - 0s 35ms/step - loss: 0.1194 - mae: 0.3124 - val_loss: 0.1123 - val_mae: 0.3074\n",
            "Epoch 120/200\n",
            "10/10 [==============================] - 0s 6ms/step - loss: 0.1209 - mae: 0.3106 - val_loss: 0.1081 - val_mae: 0.3005\n",
            "Epoch 121/200\n",
            "10/10 [==============================] - 0s 9ms/step - loss: 0.1194 - mae: 0.3080 - val_loss: 0.1043 - val_mae: 0.2944\n",
            "Epoch 122/200\n",
            "10/10 [==============================] - 0s 6ms/step - loss: 0.1199 - mae: 0.3107 - val_loss: 0.1010 - val_mae: 0.2887\n",
            "Epoch 123/200\n",
            "10/10 [==============================] - 0s 7ms/step - loss: 0.1178 - mae: 0.3015 - val_loss: 0.0978 - val_mae: 0.2834\n",
            "Epoch 124/200\n",
            "10/10 [==============================] - 0s 8ms/step - loss: 0.1144 - mae: 0.2954 - val_loss: 0.0950 - val_mae: 0.2786\n",
            "Epoch 125/200\n",
            "10/10 [==============================] - 0s 6ms/step - loss: 0.1100 - mae: 0.2915 - val_loss: 0.0923 - val_mae: 0.2739\n",
            "Epoch 126/200\n",
            "10/10 [==============================] - 0s 8ms/step - loss: 0.1013 - mae: 0.2755 - val_loss: 0.0895 - val_mae: 0.2692\n",
            "Epoch 127/200\n",
            "10/10 [==============================] - 0s 6ms/step - loss: 0.1060 - mae: 0.2802 - val_loss: 0.0870 - val_mae: 0.2647\n",
            "Epoch 128/200\n",
            "10/10 [==============================] - 0s 7ms/step - loss: 0.0999 - mae: 0.2713 - val_loss: 0.0846 - val_mae: 0.2605\n",
            "Epoch 129/200\n",
            "10/10 [==============================] - 0s 8ms/step - loss: 0.1023 - mae: 0.2701 - val_loss: 0.0824 - val_mae: 0.2566\n",
            "Epoch 130/200\n",
            "10/10 [==============================] - 0s 6ms/step - loss: 0.1030 - mae: 0.2777 - val_loss: 0.0804 - val_mae: 0.2532\n",
            "Epoch 131/200\n",
            "10/10 [==============================] - 0s 6ms/step - loss: 0.0923 - mae: 0.2553 - val_loss: 0.0784 - val_mae: 0.2497\n",
            "Epoch 132/200\n",
            "10/10 [==============================] - 0s 6ms/step - loss: 0.0947 - mae: 0.2615 - val_loss: 0.0763 - val_mae: 0.2460\n",
            "Epoch 133/200\n",
            "10/10 [==============================] - 0s 7ms/step - loss: 0.1035 - mae: 0.2676 - val_loss: 0.0747 - val_mae: 0.2431\n",
            "Epoch 134/200\n",
            "10/10 [==============================] - 0s 6ms/step - loss: 0.0981 - mae: 0.2595 - val_loss: 0.0733 - val_mae: 0.2406\n",
            "Epoch 135/200\n",
            "10/10 [==============================] - 0s 7ms/step - loss: 0.0935 - mae: 0.2529 - val_loss: 0.0719 - val_mae: 0.2381\n",
            "Epoch 136/200\n",
            "10/10 [==============================] - 0s 7ms/step - loss: 0.0910 - mae: 0.2457 - val_loss: 0.0706 - val_mae: 0.2356\n",
            "Epoch 137/200\n",
            "10/10 [==============================] - 0s 6ms/step - loss: 0.1043 - mae: 0.2682 - val_loss: 0.0694 - val_mae: 0.2334\n",
            "Epoch 138/200\n",
            "10/10 [==============================] - 0s 8ms/step - loss: 0.0964 - mae: 0.2525 - val_loss: 0.0683 - val_mae: 0.2314\n",
            "Epoch 139/200\n",
            "10/10 [==============================] - 0s 8ms/step - loss: 0.0975 - mae: 0.2567 - val_loss: 0.0671 - val_mae: 0.2291\n",
            "Epoch 140/200\n",
            "10/10 [==============================] - 0s 6ms/step - loss: 0.0942 - mae: 0.2527 - val_loss: 0.0661 - val_mae: 0.2271\n",
            "Epoch 141/200\n",
            "10/10 [==============================] - 0s 7ms/step - loss: 0.0969 - mae: 0.2563 - val_loss: 0.0650 - val_mae: 0.2251\n",
            "Epoch 142/200\n",
            "10/10 [==============================] - 0s 7ms/step - loss: 0.0914 - mae: 0.2492 - val_loss: 0.0641 - val_mae: 0.2234\n",
            "Epoch 143/200\n",
            "10/10 [==============================] - 0s 6ms/step - loss: 0.0996 - mae: 0.2598 - val_loss: 0.0632 - val_mae: 0.2216\n",
            "Epoch 144/200\n",
            "10/10 [==============================] - 0s 8ms/step - loss: 0.0850 - mae: 0.2369 - val_loss: 0.0624 - val_mae: 0.2200\n",
            "Epoch 145/200\n",
            "10/10 [==============================] - 0s 6ms/step - loss: 0.0905 - mae: 0.2435 - val_loss: 0.0615 - val_mae: 0.2184\n",
            "Epoch 146/200\n",
            "10/10 [==============================] - 0s 8ms/step - loss: 0.0968 - mae: 0.2569 - val_loss: 0.0608 - val_mae: 0.2170\n",
            "Epoch 147/200\n",
            "10/10 [==============================] - 0s 8ms/step - loss: 0.0863 - mae: 0.2358 - val_loss: 0.0602 - val_mae: 0.2158\n",
            "Epoch 148/200\n",
            "10/10 [==============================] - 0s 8ms/step - loss: 0.0955 - mae: 0.2491 - val_loss: 0.0597 - val_mae: 0.2148\n",
            "Epoch 149/200\n",
            "10/10 [==============================] - 0s 7ms/step - loss: 0.0898 - mae: 0.2444 - val_loss: 0.0592 - val_mae: 0.2138\n",
            "Epoch 150/200\n",
            "10/10 [==============================] - 0s 8ms/step - loss: 0.0927 - mae: 0.2516 - val_loss: 0.0587 - val_mae: 0.2128\n",
            "Epoch 151/200\n",
            "10/10 [==============================] - 0s 6ms/step - loss: 0.0955 - mae: 0.2569 - val_loss: 0.0583 - val_mae: 0.2120\n",
            "Epoch 152/200\n",
            "10/10 [==============================] - 0s 7ms/step - loss: 0.0912 - mae: 0.2478 - val_loss: 0.0579 - val_mae: 0.2112\n",
            "Epoch 153/200\n",
            "10/10 [==============================] - 0s 6ms/step - loss: 0.0909 - mae: 0.2426 - val_loss: 0.0576 - val_mae: 0.2105\n",
            "Epoch 154/200\n",
            "10/10 [==============================] - 0s 7ms/step - loss: 0.0949 - mae: 0.2529 - val_loss: 0.0572 - val_mae: 0.2098\n",
            "Epoch 155/200\n",
            "10/10 [==============================] - 0s 6ms/step - loss: 0.1012 - mae: 0.2618 - val_loss: 0.0569 - val_mae: 0.2091\n",
            "Epoch 156/200\n",
            "10/10 [==============================] - 0s 6ms/step - loss: 0.0925 - mae: 0.2495 - val_loss: 0.0565 - val_mae: 0.2083\n",
            "Epoch 157/200\n",
            "10/10 [==============================] - 0s 7ms/step - loss: 0.0900 - mae: 0.2397 - val_loss: 0.0562 - val_mae: 0.2077\n",
            "Epoch 158/200\n",
            "10/10 [==============================] - 0s 6ms/step - loss: 0.0961 - mae: 0.2572 - val_loss: 0.0560 - val_mae: 0.2073\n",
            "Epoch 159/200\n",
            "10/10 [==============================] - 0s 7ms/step - loss: 0.0826 - mae: 0.2337 - val_loss: 0.0556 - val_mae: 0.2066\n",
            "Epoch 160/200\n",
            "10/10 [==============================] - 0s 7ms/step - loss: 0.0863 - mae: 0.2372 - val_loss: 0.0552 - val_mae: 0.2056\n",
            "Epoch 161/200\n",
            "10/10 [==============================] - 0s 8ms/step - loss: 0.0927 - mae: 0.2515 - val_loss: 0.0546 - val_mae: 0.2045\n",
            "Epoch 162/200\n",
            "10/10 [==============================] - 0s 7ms/step - loss: 0.0919 - mae: 0.2427 - val_loss: 0.0544 - val_mae: 0.2041\n",
            "Epoch 163/200\n",
            "10/10 [==============================] - 0s 7ms/step - loss: 0.0962 - mae: 0.2478 - val_loss: 0.0544 - val_mae: 0.2040\n",
            "Epoch 164/200\n",
            "10/10 [==============================] - 0s 9ms/step - loss: 0.0854 - mae: 0.2326 - val_loss: 0.0542 - val_mae: 0.2036\n",
            "Epoch 165/200\n",
            "10/10 [==============================] - 0s 7ms/step - loss: 0.0873 - mae: 0.2386 - val_loss: 0.0540 - val_mae: 0.2033\n",
            "Epoch 166/200\n",
            "10/10 [==============================] - 0s 6ms/step - loss: 0.0817 - mae: 0.2287 - val_loss: 0.0538 - val_mae: 0.2028\n",
            "Epoch 167/200\n",
            "10/10 [==============================] - 0s 8ms/step - loss: 0.0895 - mae: 0.2430 - val_loss: 0.0535 - val_mae: 0.2022\n",
            "Epoch 168/200\n",
            "10/10 [==============================] - 0s 7ms/step - loss: 0.0950 - mae: 0.2545 - val_loss: 0.0533 - val_mae: 0.2018\n",
            "Epoch 169/200\n",
            "10/10 [==============================] - 0s 6ms/step - loss: 0.0866 - mae: 0.2400 - val_loss: 0.0530 - val_mae: 0.2012\n",
            "Epoch 170/200\n",
            "10/10 [==============================] - 0s 6ms/step - loss: 0.0889 - mae: 0.2449 - val_loss: 0.0529 - val_mae: 0.2009\n",
            "Epoch 171/200\n",
            "10/10 [==============================] - 0s 7ms/step - loss: 0.0875 - mae: 0.2439 - val_loss: 0.0527 - val_mae: 0.2004\n",
            "Epoch 172/200\n",
            "10/10 [==============================] - 0s 7ms/step - loss: 0.0932 - mae: 0.2503 - val_loss: 0.0524 - val_mae: 0.2000\n",
            "Epoch 173/200\n",
            "10/10 [==============================] - 0s 6ms/step - loss: 0.0921 - mae: 0.2461 - val_loss: 0.0523 - val_mae: 0.1997\n",
            "Epoch 174/200\n",
            "10/10 [==============================] - 0s 6ms/step - loss: 0.0974 - mae: 0.2591 - val_loss: 0.0521 - val_mae: 0.1992\n",
            "Epoch 175/200\n",
            "10/10 [==============================] - 0s 8ms/step - loss: 0.0905 - mae: 0.2469 - val_loss: 0.0520 - val_mae: 0.1990\n",
            "Epoch 176/200\n",
            "10/10 [==============================] - 0s 7ms/step - loss: 0.0834 - mae: 0.2333 - val_loss: 0.0518 - val_mae: 0.1988\n",
            "Epoch 177/200\n",
            "10/10 [==============================] - 0s 7ms/step - loss: 0.0891 - mae: 0.2403 - val_loss: 0.0517 - val_mae: 0.1985\n",
            "Epoch 178/200\n",
            "10/10 [==============================] - 0s 7ms/step - loss: 0.0861 - mae: 0.2404 - val_loss: 0.0515 - val_mae: 0.1981\n",
            "Epoch 179/200\n",
            "10/10 [==============================] - 0s 6ms/step - loss: 0.0932 - mae: 0.2486 - val_loss: 0.0514 - val_mae: 0.1979\n",
            "Epoch 180/200\n",
            "10/10 [==============================] - 0s 8ms/step - loss: 0.0865 - mae: 0.2384 - val_loss: 0.0513 - val_mae: 0.1976\n",
            "Epoch 181/200\n",
            "10/10 [==============================] - 0s 8ms/step - loss: 0.0910 - mae: 0.2463 - val_loss: 0.0511 - val_mae: 0.1973\n",
            "Epoch 182/200\n",
            "10/10 [==============================] - 0s 6ms/step - loss: 0.0744 - mae: 0.2218 - val_loss: 0.0511 - val_mae: 0.1972\n",
            "Epoch 183/200\n",
            "10/10 [==============================] - 0s 6ms/step - loss: 0.0868 - mae: 0.2397 - val_loss: 0.0510 - val_mae: 0.1969\n",
            "Epoch 184/200\n",
            "10/10 [==============================] - 0s 7ms/step - loss: 0.0818 - mae: 0.2320 - val_loss: 0.0508 - val_mae: 0.1967\n",
            "Epoch 185/200\n",
            "10/10 [==============================] - 0s 7ms/step - loss: 0.0884 - mae: 0.2393 - val_loss: 0.0509 - val_mae: 0.1967\n",
            "Epoch 186/200\n",
            "10/10 [==============================] - 0s 8ms/step - loss: 0.0869 - mae: 0.2399 - val_loss: 0.0509 - val_mae: 0.1969\n",
            "Epoch 187/200\n",
            "10/10 [==============================] - 0s 9ms/step - loss: 0.0808 - mae: 0.2290 - val_loss: 0.0508 - val_mae: 0.1966\n",
            "Epoch 188/200\n",
            "10/10 [==============================] - 0s 9ms/step - loss: 0.0790 - mae: 0.2212 - val_loss: 0.0505 - val_mae: 0.1961\n",
            "Epoch 189/200\n",
            "10/10 [==============================] - 0s 8ms/step - loss: 0.0804 - mae: 0.2300 - val_loss: 0.0503 - val_mae: 0.1955\n",
            "Epoch 190/200\n",
            "10/10 [==============================] - 0s 8ms/step - loss: 0.0859 - mae: 0.2415 - val_loss: 0.0500 - val_mae: 0.1950\n",
            "Epoch 191/200\n",
            "10/10 [==============================] - 0s 7ms/step - loss: 0.0779 - mae: 0.2211 - val_loss: 0.0499 - val_mae: 0.1947\n",
            "Epoch 192/200\n",
            "10/10 [==============================] - 0s 7ms/step - loss: 0.0908 - mae: 0.2449 - val_loss: 0.0498 - val_mae: 0.1944\n",
            "Epoch 193/200\n",
            "10/10 [==============================] - 0s 7ms/step - loss: 0.0805 - mae: 0.2246 - val_loss: 0.0496 - val_mae: 0.1940\n",
            "Epoch 194/200\n",
            "10/10 [==============================] - 0s 7ms/step - loss: 0.0846 - mae: 0.2358 - val_loss: 0.0495 - val_mae: 0.1938\n",
            "Epoch 195/200\n",
            "10/10 [==============================] - 0s 7ms/step - loss: 0.0794 - mae: 0.2265 - val_loss: 0.0494 - val_mae: 0.1937\n",
            "Epoch 196/200\n",
            "10/10 [==============================] - 0s 6ms/step - loss: 0.0897 - mae: 0.2469 - val_loss: 0.0494 - val_mae: 0.1936\n",
            "Epoch 197/200\n",
            "10/10 [==============================] - 0s 8ms/step - loss: 0.0879 - mae: 0.2408 - val_loss: 0.0493 - val_mae: 0.1934\n",
            "Epoch 198/200\n",
            "10/10 [==============================] - 0s 6ms/step - loss: 0.0790 - mae: 0.2262 - val_loss: 0.0492 - val_mae: 0.1932\n",
            "Epoch 199/200\n",
            "10/10 [==============================] - 0s 7ms/step - loss: 0.0792 - mae: 0.2257 - val_loss: 0.0490 - val_mae: 0.1928\n",
            "Epoch 200/200\n",
            "10/10 [==============================] - 0s 7ms/step - loss: 0.0835 - mae: 0.2388 - val_loss: 0.0488 - val_mae: 0.1924\n"
          ]
        }
      ]
    },
    {
      "cell_type": "code",
      "source": [
        "# importando \"libs\" para visualização gráfica e para ajustes de parâmetros e etc\n",
        "import matplotlib.pyplot as plt\n",
        "\n",
        "from pylab import rcParams\n",
        "\n",
        "%matplotlib inline\n",
        "# plt.style.use('ggplot')\n",
        "plt.style.use('fivethirtyeight')\n",
        "rcParams['figure.figsize'] = 14, 5"
      ],
      "metadata": {
        "id": "wkD22yAfoIxA"
      },
      "execution_count": 15,
      "outputs": []
    },
    {
      "cell_type": "code",
      "source": [
        "plt.plot(history.history['loss'])\n",
        "plt.plot(history.history['val_loss'])\n",
        "\n",
        "plt.title('History - LOSS\\n', size=20)\n",
        "plt.xlabel('\\nepochs')\n",
        "plt.ylabel('loss\\n')\n",
        "plt.legend(['train loss', 'val loss'])\n",
        "plt.show()"
      ],
      "metadata": {
        "colab": {
          "base_uri": "https://localhost:8080/",
          "height": 426
        },
        "id": "TAklkKNMoIvQ",
        "outputId": "e188e98c-9c5d-48a3-b30e-25789b104203"
      },
      "execution_count": 16,
      "outputs": [
        {
          "output_type": "display_data",
          "data": {
            "text/plain": [
              "<Figure size 1008x360 with 1 Axes>"
            ],
            "image/png": "[encoded data removed]"
          },
          "metadata": {}
        }
      ]
    },
    {
      "cell_type": "code",
      "source": [
        "plt.plot(history.history['mae'])\n",
        "plt.plot(history.history['val_mae'])\n",
        "\n",
        "plt.title('History - MAE\\n', size=20)\n",
        "plt.xlabel('\\nepochs')\n",
        "plt.ylabel('loss\\n')\n",
        "plt.legend(['train mae', 'val mae'])\n",
        "plt.show()"
      ],
      "metadata": {
        "id": "jImsy1yVoIrE",
        "colab": {
          "base_uri": "https://localhost:8080/",
          "height": 426
        },
        "outputId": "a1e22874-e3b0-4e5c-d7e6-24101544ab35"
      },
      "execution_count": 17,
      "outputs": [
        {
          "output_type": "display_data",
          "data": {
            "text/plain": [
              "<Figure size 1008x360 with 1 Axes>"
            ],
            "image/png": "[encoded data removed]"
          },
          "metadata": {}
        }
      ]
    },
    {
      "cell_type": "code",
      "source": [
        "%whos"
      ],
      "metadata": {
        "colab": {
          "base_uri": "https://localhost:8080/"
        },
        "id": "u44nOGCd5vuL",
        "outputId": "8dc1ceb3-51ce-459a-d0ab-db5ec9613870"
      },
      "execution_count": 18,
      "outputs": [
        {
          "output_type": "stream",
          "name": "stdout",
          "text": [
            "Variable     Type          Data/Info\n",
            "------------------------------------\n",
            "Dense        type          <class 'keras.layers.core.dense.Dense'>\n",
            "Dropout      type          <class 'keras.layers.regu<...>ization.dropout.Dropout'>\n",
            "Sequential   type          <class 'keras.engine.sequential.Sequential'>\n",
            "X            DataFrame          GRE Score  TOEFL Sco<...>n\\n[400 rows x 7 columns]\n",
            "X_train      DataFrame          GRE Score  TOEFL Sco<...>n\\n[300 rows x 7 columns]\n",
            "X_val        DataFrame          GRE Score  TOEFL Sco<...>n\\n[100 rows x 7 columns]\n",
            "df           DataFrame          GRE Score  TOEFL Sco<...>n\\n[400 rows x 8 columns]\n",
            "history      History       <keras.callbacks.History <...>object at 0x7fa3215add90>\n",
            "keras        module        <module 'keras' from '/us<...>kages/keras/__init__.py'>\n",
            "model        Sequential    <keras.engine.sequential.<...>object at 0x7fa38da68c10>\n",
            "pd           module        <module 'pandas' from '/u<...>ages/pandas/__init__.py'>\n",
            "plt          module        <module 'matplotlib.pyplo<...>es/matplotlib/pyplot.py'>\n",
            "rcParams     RcParams      _internal.classic_mode: F<...>: 0.6\\nytick.right: False\n",
            "y            Series        0      0.75\\n1      0.86\\<...>ngth: 400, dtype: float64\n",
            "y_train      Series        0      0.75\\n1      0.86\\<...>ngth: 300, dtype: float64\n",
            "y_val        Series        300    0.63\\n301    0.64\\<...>ngth: 100, dtype: float64\n"
          ]
        }
      ]
    },
    {
      "cell_type": "code",
      "source": [
        "%who_ls"
      ],
      "metadata": {
        "id": "PR68TTkmoIpl",
        "colab": {
          "base_uri": "https://localhost:8080/"
        },
        "outputId": "7e2bb32d-a17a-4486-9455-448693fd0583"
      },
      "execution_count": 19,
      "outputs": [
        {
          "output_type": "execute_result",
          "data": {
            "text/plain": [
              "['Dense',\n",
              " 'Dropout',\n",
              " 'Sequential',\n",
              " 'X',\n",
              " 'X_train',\n",
              " 'X_val',\n",
              " 'df',\n",
              " 'history',\n",
              " 'keras',\n",
              " 'model',\n",
              " 'pd',\n",
              " 'plt',\n",
              " 'rcParams',\n",
              " 'y',\n",
              " 'y_train',\n",
              " 'y_val']"
            ]
          },
          "metadata": {},
          "execution_count": 19
        }
      ]
    },
    {
      "cell_type": "code",
      "source": [],
      "metadata": {
        "id": "sp8XEKWo55Kj"
      },
      "execution_count": null,
      "outputs": []
    },
    {
      "cell_type": "code",
      "source": [],
      "metadata": {
        "id": "F3jnt93q54er"
      },
      "execution_count": null,
      "outputs": []
    },
    {
      "cell_type": "code",
      "source": [],
      "metadata": {
        "id": "cwLTpdj7oIck"
      },
      "execution_count": 17,
      "outputs": []
    }
  ]
}
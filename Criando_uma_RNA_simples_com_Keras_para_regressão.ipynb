{
  "nbformat": 4,
  "nbformat_minor": 0,
  "metadata": {
    "colab": {
      "provenance": [],
      "authorship_tag": "ABX9TyO6uQCNyXnUBxWa+PaORSzK",
      "include_colab_link": true
    },
    "kernelspec": {
      "name": "python3",
      "display_name": "Python 3"
    },
    "language_info": {
      "name": "python"
    }
  },
  "cells": [
    {
      "cell_type": "markdown",
      "metadata": {
        "id": "view-in-github",
        "colab_type": "text"
      },
      "source": [
        "<a href=\"https://colab.research.google.com/github/FGalvao77/Criando-uma-RNA-simples-com-Keras-para-regressao/blob/main/Criando_uma_RNA_simples_com_Keras_para_regress%C3%A3o.ipynb\" target=\"_parent\"><img src=\"https://colab.research.google.com/assets/colab-badge.svg\" alt=\"Open In Colab\"/></a>"
      ]
    },
    {
      "cell_type": "markdown",
      "source": [
        "## **Criando uma RNA simples com Keras para regressão**\n",
        "---\n",
        "---"
      ],
      "metadata": {
        "id": "hSXHLDp9Taaj"
      }
    },
    {
      "cell_type": "markdown",
      "source": [
        "- https://keras.io/"
      ],
      "metadata": {
        "id": "S5qC731Zmi36"
      }
    },
    {
      "cell_type": "code",
      "source": [
        "!curl https://didatica.tech/wp-content/uploads/2023/02/admission_dataset.csv >> admission.csv"
      ],
      "metadata": {
        "colab": {
          "base_uri": "https://localhost:8080/"
        },
        "id": "DKBJ0Zu-k1vi",
        "outputId": "9799921d-f40f-443f-9406-7be6a7f6029d"
      },
      "execution_count": 1,
      "outputs": [
        {
          "output_type": "stream",
          "name": "stdout",
          "text": [
            "  % Total    % Received % Xferd  Average Speed   Time    Time     Time  Current\n",
            "                                 Dload  Upload   Total   Spent    Left  Speed\n",
            "100 12322  100 12322    0     0  32256      0 --:--:-- --:--:-- --:--:-- 32172\n"
          ]
        }
      ]
    },
    {
      "cell_type": "code",
      "source": [
        "!head admission.csv"
      ],
      "metadata": {
        "colab": {
          "base_uri": "https://localhost:8080/"
        },
        "id": "J6xAiS0Pk1tW",
        "outputId": "a5f3047d-84db-4a03-f903-d8e48774e378"
      },
      "execution_count": 2,
      "outputs": [
        {
          "output_type": "stream",
          "name": "stdout",
          "text": [
            "GRE Score,TOEFL Score,University Rating,SOP,LOR ,CGPA,Research,Chance of Admit \r\n",
            "315,105,3,2.0,2.5,8.48,0,0.75\r\n",
            "321,112,5,5.0,5.0,9.06,1,0.86\r\n",
            "327,103,3,4.0,4.0,8.3,1,0.74\r\n",
            "305,112,3,3.0,3.5,8.65,0,0.71\r\n",
            "297,96,2,2.5,1.5,7.89,0,0.43\r\n",
            "321,109,3,3.0,4.0,8.2,1,0.75\r\n",
            "298,99,1,1.5,3.0,7.46,0,0.53\r\n",
            "312,109,3,3.0,3.0,8.69,0,0.77\r\n",
            "320,108,3,3.5,4.0,8.44,1,0.76\r\n"
          ]
        }
      ]
    },
    {
      "cell_type": "code",
      "execution_count": 3,
      "metadata": {
        "colab": {
          "base_uri": "https://localhost:8080/"
        },
        "id": "uWL-GZGHkt-D",
        "outputId": "f1bbceb1-85a0-41d9-aad6-df4d7df6b526"
      },
      "outputs": [
        {
          "output_type": "stream",
          "name": "stdout",
          "text": [
            "VERSION: 2.11.0\n"
          ]
        }
      ],
      "source": [
        "import keras\n",
        "\n",
        "print(f'VERSION: {keras.__version__}')"
      ]
    },
    {
      "cell_type": "code",
      "source": [
        "import pandas as pd"
      ],
      "metadata": {
        "id": "mws5wAZ7k1yg"
      },
      "execution_count": 4,
      "outputs": []
    },
    {
      "cell_type": "code",
      "source": [
        "df = pd.read_csv(\n",
        "    filepath_or_buffer='admission.csv'\n",
        ")"
      ],
      "metadata": {
        "id": "98nPadRkk1rX"
      },
      "execution_count": 5,
      "outputs": []
    },
    {
      "cell_type": "code",
      "source": [
        "df.head()"
      ],
      "metadata": {
        "colab": {
          "base_uri": "https://localhost:8080/",
          "height": 206
        },
        "id": "5LMkgTPuk1o9",
        "outputId": "27930e82-f634-41af-c5f8-eb89412d1c1c"
      },
      "execution_count": 6,
      "outputs": [
        {
          "output_type": "execute_result",
          "data": {
            "text/plain": [
              "   GRE Score  TOEFL Score  University Rating  SOP  LOR   CGPA  Research  \\\n",
              "0        315          105                  3  2.0   2.5  8.48         0   \n",
              "1        321          112                  5  5.0   5.0  9.06         1   \n",
              "2        327          103                  3  4.0   4.0  8.30         1   \n",
              "3        305          112                  3  3.0   3.5  8.65         0   \n",
              "4        297           96                  2  2.5   1.5  7.89         0   \n",
              "\n",
              "   Chance of Admit   \n",
              "0              0.75  \n",
              "1              0.86  \n",
              "2              0.74  \n",
              "3              0.71  \n",
              "4              0.43  "
            ],
            "text/html": [
              "\n",
              "  <div id=\"df-6893b897-9931-432f-8a0e-a79ae1a74370\">\n",
              "    <div class=\"colab-df-container\">\n",
              "      <div>\n",
              "<style scoped>\n",
              "    .dataframe tbody tr th:only-of-type {\n",
              "        vertical-align: middle;\n",
              "    }\n",
              "\n",
              "    .dataframe tbody tr th {\n",
              "        vertical-align: top;\n",
              "    }\n",
              "\n",
              "    .dataframe thead th {\n",
              "        text-align: right;\n",
              "    }\n",
              "</style>\n",
              "<table border=\"1\" class=\"dataframe\">\n",
              "  <thead>\n",
              "    <tr style=\"text-align: right;\">\n",
              "      <th></th>\n",
              "      <th>GRE Score</th>\n",
              "      <th>TOEFL Score</th>\n",
              "      <th>University Rating</th>\n",
              "      <th>SOP</th>\n",
              "      <th>LOR</th>\n",
              "      <th>CGPA</th>\n",
              "      <th>Research</th>\n",
              "      <th>Chance of Admit</th>\n",
              "    </tr>\n",
              "  </thead>\n",
              "  <tbody>\n",
              "    <tr>\n",
              "      <th>0</th>\n",
              "      <td>315</td>\n",
              "      <td>105</td>\n",
              "      <td>3</td>\n",
              "      <td>2.0</td>\n",
              "      <td>2.5</td>\n",
              "      <td>8.48</td>\n",
              "      <td>0</td>\n",
              "      <td>0.75</td>\n",
              "    </tr>\n",
              "    <tr>\n",
              "      <th>1</th>\n",
              "      <td>321</td>\n",
              "      <td>112</td>\n",
              "      <td>5</td>\n",
              "      <td>5.0</td>\n",
              "      <td>5.0</td>\n",
              "      <td>9.06</td>\n",
              "      <td>1</td>\n",
              "      <td>0.86</td>\n",
              "    </tr>\n",
              "    <tr>\n",
              "      <th>2</th>\n",
              "      <td>327</td>\n",
              "      <td>103</td>\n",
              "      <td>3</td>\n",
              "      <td>4.0</td>\n",
              "      <td>4.0</td>\n",
              "      <td>8.30</td>\n",
              "      <td>1</td>\n",
              "      <td>0.74</td>\n",
              "    </tr>\n",
              "    <tr>\n",
              "      <th>3</th>\n",
              "      <td>305</td>\n",
              "      <td>112</td>\n",
              "      <td>3</td>\n",
              "      <td>3.0</td>\n",
              "      <td>3.5</td>\n",
              "      <td>8.65</td>\n",
              "      <td>0</td>\n",
              "      <td>0.71</td>\n",
              "    </tr>\n",
              "    <tr>\n",
              "      <th>4</th>\n",
              "      <td>297</td>\n",
              "      <td>96</td>\n",
              "      <td>2</td>\n",
              "      <td>2.5</td>\n",
              "      <td>1.5</td>\n",
              "      <td>7.89</td>\n",
              "      <td>0</td>\n",
              "      <td>0.43</td>\n",
              "    </tr>\n",
              "  </tbody>\n",
              "</table>\n",
              "</div>\n",
              "      <button class=\"colab-df-convert\" onclick=\"convertToInteractive('df-6893b897-9931-432f-8a0e-a79ae1a74370')\"\n",
              "              title=\"Convert this dataframe to an interactive table.\"\n",
              "              style=\"display:none;\">\n",
              "        \n",
              "  <svg xmlns=\"http://www.w3.org/2000/svg\" height=\"24px\"viewBox=\"0 0 24 24\"\n",
              "       width=\"24px\">\n",
              "    <path d=\"M0 0h24v24H0V0z\" fill=\"none\"/>\n",
              "    <path d=\"M18.56 5.44l.94 2.06.94-2.06 2.06-.94-2.06-.94-.94-2.06-.94 2.06-2.06.94zm-11 1L8.5 8.5l.94-2.06 2.06-.94-2.06-.94L8.5 2.5l-.94 2.06-2.06.94zm10 10l.94 2.06.94-2.06 2.06-.94-2.06-.94-.94-2.06-.94 2.06-2.06.94z\"/><path d=\"M17.41 7.96l-1.37-1.37c-.4-.4-.92-.59-1.43-.59-.52 0-1.04.2-1.43.59L10.3 9.45l-7.72 7.72c-.78.78-.78 2.05 0 2.83L4 21.41c.39.39.9.59 1.41.59.51 0 1.02-.2 1.41-.59l7.78-7.78 2.81-2.81c.8-.78.8-2.07 0-2.86zM5.41 20L4 18.59l7.72-7.72 1.47 1.35L5.41 20z\"/>\n",
              "  </svg>\n",
              "      </button>\n",
              "      \n",
              "  <style>\n",
              "    .colab-df-container {\n",
              "      display:flex;\n",
              "      flex-wrap:wrap;\n",
              "      gap: 12px;\n",
              "    }\n",
              "\n",
              "    .colab-df-convert {\n",
              "      background-color: #E8F0FE;\n",
              "      border: none;\n",
              "      border-radius: 50%;\n",
              "      cursor: pointer;\n",
              "      display: none;\n",
              "      fill: #1967D2;\n",
              "      height: 32px;\n",
              "      padding: 0 0 0 0;\n",
              "      width: 32px;\n",
              "    }\n",
              "\n",
              "    .colab-df-convert:hover {\n",
              "      background-color: #E2EBFA;\n",
              "      box-shadow: 0px 1px 2px rgba(60, 64, 67, 0.3), 0px 1px 3px 1px rgba(60, 64, 67, 0.15);\n",
              "      fill: #174EA6;\n",
              "    }\n",
              "\n",
              "    [theme=dark] .colab-df-convert {\n",
              "      background-color: #3B4455;\n",
              "      fill: #D2E3FC;\n",
              "    }\n",
              "\n",
              "    [theme=dark] .colab-df-convert:hover {\n",
              "      background-color: #434B5C;\n",
              "      box-shadow: 0px 1px 3px 1px rgba(0, 0, 0, 0.15);\n",
              "      filter: drop-shadow(0px 1px 2px rgba(0, 0, 0, 0.3));\n",
              "      fill: #FFFFFF;\n",
              "    }\n",
              "  </style>\n",
              "\n",
              "      <script>\n",
              "        const buttonEl =\n",
              "          document.querySelector('#df-6893b897-9931-432f-8a0e-a79ae1a74370 button.colab-df-convert');\n",
              "        buttonEl.style.display =\n",
              "          google.colab.kernel.accessAllowed ? 'block' : 'none';\n",
              "\n",
              "        async function convertToInteractive(key) {\n",
              "          const element = document.querySelector('#df-6893b897-9931-432f-8a0e-a79ae1a74370');\n",
              "          const dataTable =\n",
              "            await google.colab.kernel.invokeFunction('convertToInteractive',\n",
              "                                                     [key], {});\n",
              "          if (!dataTable) return;\n",
              "\n",
              "          const docLinkHtml = 'Like what you see? Visit the ' +\n",
              "            '<a target=\"_blank\" href=https://colab.research.google.com/notebooks/data_table.ipynb>data table notebook</a>'\n",
              "            + ' to learn more about interactive tables.';\n",
              "          element.innerHTML = '';\n",
              "          dataTable['output_type'] = 'display_data';\n",
              "          await google.colab.output.renderOutput(dataTable, element);\n",
              "          const docLink = document.createElement('div');\n",
              "          docLink.innerHTML = docLinkHtml;\n",
              "          element.appendChild(docLink);\n",
              "        }\n",
              "      </script>\n",
              "    </div>\n",
              "  </div>\n",
              "  "
            ]
          },
          "metadata": {},
          "execution_count": 6
        }
      ]
    },
    {
      "cell_type": "code",
      "source": [
        "X  = df.drop(columns='Chance of Admit ', axis=1)\n",
        "y = df['Chance of Admit ']"
      ],
      "metadata": {
        "id": "OwXTxcm4k1m4"
      },
      "execution_count": 7,
      "outputs": []
    },
    {
      "cell_type": "code",
      "source": [
        "X_train, X_val = X[0:300], X[300:]\n",
        "y_train, y_val = y[0:300], y[300:]"
      ],
      "metadata": {
        "id": "WPC0oLWJk1kz"
      },
      "execution_count": 8,
      "outputs": []
    },
    {
      "cell_type": "code",
      "source": [
        "X_train.shape"
      ],
      "metadata": {
        "colab": {
          "base_uri": "https://localhost:8080/"
        },
        "id": "BF2vmdShk1ib",
        "outputId": "9b81fb12-55a5-44d4-a3ea-3940a891ac40"
      },
      "execution_count": 9,
      "outputs": [
        {
          "output_type": "execute_result",
          "data": {
            "text/plain": [
              "(300, 7)"
            ]
          },
          "metadata": {},
          "execution_count": 9
        }
      ]
    },
    {
      "cell_type": "code",
      "source": [
        "from keras.models import Sequential\n",
        "from keras.layers import Dense, Dropout"
      ],
      "metadata": {
        "id": "LzHLKEtrk1gC"
      },
      "execution_count": 10,
      "outputs": []
    },
    {
      "cell_type": "code",
      "source": [
        "model = Sequential()\n",
        "\n",
        "model.add(Dense(units=3, activation='relu', input_dim=7))\n",
        "model.add(Dropout(rate=0.5))\n",
        "model.add(Dense(units=1, activation='linear'))"
      ],
      "metadata": {
        "id": "HE-JZJkRk1da"
      },
      "execution_count": 11,
      "outputs": []
    },
    {
      "cell_type": "code",
      "source": [
        "model.summary()"
      ],
      "metadata": {
        "colab": {
          "base_uri": "https://localhost:8080/"
        },
        "id": "BxMtMhXYoA6-",
        "outputId": "fc6c33ee-e65d-4c4d-ddf9-dbe77580a24d"
      },
      "execution_count": 12,
      "outputs": [
        {
          "output_type": "stream",
          "name": "stdout",
          "text": [
            "Model: \"sequential\"\n",
            "_________________________________________________________________\n",
            " Layer (type)                Output Shape              Param #   \n",
            "=================================================================\n",
            " dense (Dense)               (None, 3)                 24        \n",
            "                                                                 \n",
            " dropout (Dropout)           (None, 3)                 0         \n",
            "                                                                 \n",
            " dense_1 (Dense)             (None, 1)                 4         \n",
            "                                                                 \n",
            "=================================================================\n",
            "Total params: 28\n",
            "Trainable params: 28\n",
            "Non-trainable params: 0\n",
            "_________________________________________________________________\n"
          ]
        }
      ]
    },
    {
      "cell_type": "code",
      "source": [
        "from keras.utils import plot_model"
      ],
      "metadata": {
        "id": "SJBBaN3omXF9"
      },
      "execution_count": 14,
      "outputs": []
    },
    {
      "cell_type": "code",
      "source": [
        "plot_model(\n",
        "    model,\n",
        "    to_file='model.png',\n",
        "    show_shapes=True,\n",
        "    show_dtype=True,\n",
        "    show_layer_names=True,\n",
        "    rankdir='TB',\n",
        "    expand_nested=True,\n",
        "    dpi=96,\n",
        "    layer_range=None,\n",
        "    show_layer_activations=False,\n",
        ")"
      ],
      "metadata": {
        "colab": {
          "base_uri": "https://localhost:8080/",
          "height": 545
        },
        "id": "eSO3wK96m-5v",
        "outputId": "d6b6bb66-4eee-4372-adac-2bf92b3a7f9c"
      },
      "execution_count": 19,
      "outputs": [
        {
          "output_type": "execute_result",
          "data": {
            "image/png": "[encoded data removed]",
            "text/plain": [
              "<IPython.core.display.Image object>"
            ]
          },
          "metadata": {},
          "execution_count": 19
        }
      ]
    },
    {
      "cell_type": "code",
      "source": [
        "model.compile(\n",
        "    optimizer='adam',\n",
        "    loss='mse',\n",
        "    metrics=['mae']\n",
        ")"
      ],
      "metadata": {
        "id": "uYYMiwrXmvc1"
      },
      "execution_count": 21,
      "outputs": []
    },
    {
      "cell_type": "code",
      "source": [
        "history = model.fit(\n",
        "    x=X_train, y=y_train,\n",
        "    batch_size=32,\n",
        "    epochs=200,\n",
        "    validation_data=(X_val, y_val)\n",
        ")"
      ],
      "metadata": {
        "colab": {
          "base_uri": "https://localhost:8080/"
        },
        "id": "YnGJrkk2mvZy",
        "outputId": "1f4f074a-7aac-49d3-c847-ca73adcb8924"
      },
      "execution_count": 22,
      "outputs": [
        {
          "output_type": "stream",
          "name": "stdout",
          "text": [
            "Epoch 1/200\n",
            "10/10 [==============================] - 1s 29ms/step - loss: 22520.2012 - mae: 119.7659 - val_loss: 12456.7461 - val_mae: 111.4909\n",
            "Epoch 2/200\n",
            "10/10 [==============================] - 0s 8ms/step - loss: 20157.2402 - mae: 112.8477 - val_loss: 10866.3350 - val_mae: 104.1288\n",
            "Epoch 3/200\n",
            "10/10 [==============================] - 0s 8ms/step - loss: 14842.0254 - mae: 92.9912 - val_loss: 9537.1982 - val_mae: 97.5509\n",
            "Epoch 4/200\n",
            "10/10 [==============================] - 0s 6ms/step - loss: 15410.1904 - mae: 97.2333 - val_loss: 8347.8623 - val_mae: 91.2640\n",
            "Epoch 5/200\n",
            "10/10 [==============================] - 0s 7ms/step - loss: 13169.1973 - mae: 89.1248 - val_loss: 7292.1763 - val_mae: 85.2963\n",
            "Epoch 6/200\n",
            "10/10 [==============================] - 0s 6ms/step - loss: 11290.7031 - mae: 81.0662 - val_loss: 6358.6523 - val_mae: 79.6477\n",
            "Epoch 7/200\n",
            "10/10 [==============================] - 0s 7ms/step - loss: 9664.5332 - mae: 74.7513 - val_loss: 5567.1245 - val_mae: 74.5237\n",
            "Epoch 8/200\n",
            "10/10 [==============================] - 0s 7ms/step - loss: 8953.7354 - mae: 72.3646 - val_loss: 4891.9507 - val_mae: 69.8566\n",
            "Epoch 9/200\n",
            "10/10 [==============================] - 0s 7ms/step - loss: 7524.9766 - mae: 65.5876 - val_loss: 4283.3032 - val_mae: 65.3645\n",
            "Epoch 10/200\n",
            "10/10 [==============================] - 0s 6ms/step - loss: 6457.9155 - mae: 58.8790 - val_loss: 3744.2876 - val_mae: 61.1113\n",
            "Epoch 11/200\n",
            "10/10 [==============================] - 0s 8ms/step - loss: 6146.5708 - mae: 58.6725 - val_loss: 3266.1094 - val_mae: 57.0735\n",
            "Epoch 12/200\n",
            "10/10 [==============================] - 0s 8ms/step - loss: 5159.3394 - mae: 52.8662 - val_loss: 2855.3762 - val_mae: 53.3620\n",
            "Epoch 13/200\n",
            "10/10 [==============================] - 0s 8ms/step - loss: 4961.0713 - mae: 53.5811 - val_loss: 2485.5095 - val_mae: 49.7836\n",
            "Epoch 14/200\n",
            "10/10 [==============================] - 0s 7ms/step - loss: 4202.0508 - mae: 48.0232 - val_loss: 2156.1143 - val_mae: 46.3650\n",
            "Epoch 15/200\n",
            "10/10 [==============================] - 0s 7ms/step - loss: 3362.0234 - mae: 41.1656 - val_loss: 1889.4624 - val_mae: 43.4008\n",
            "Epoch 16/200\n",
            "10/10 [==============================] - 0s 7ms/step - loss: 3122.0415 - mae: 39.7271 - val_loss: 1648.4945 - val_mae: 40.5363\n",
            "Epoch 17/200\n",
            "10/10 [==============================] - 0s 8ms/step - loss: 2707.7339 - mae: 35.9892 - val_loss: 1437.7397 - val_mae: 37.8537\n",
            "Epoch 18/200\n",
            "10/10 [==============================] - 0s 6ms/step - loss: 2523.6370 - mae: 35.5470 - val_loss: 1251.7800 - val_mae: 35.3181\n",
            "Epoch 19/200\n",
            "10/10 [==============================] - 0s 6ms/step - loss: 2426.3638 - mae: 36.0510 - val_loss: 1074.4670 - val_mae: 32.7179\n",
            "Epoch 20/200\n",
            "10/10 [==============================] - 0s 7ms/step - loss: 1980.2367 - mae: 31.7738 - val_loss: 917.8904 - val_mae: 30.2366\n",
            "Epoch 21/200\n",
            "10/10 [==============================] - 0s 7ms/step - loss: 1777.6857 - mae: 30.6933 - val_loss: 783.8317 - val_mae: 27.9377\n",
            "Epoch 22/200\n",
            "10/10 [==============================] - 0s 6ms/step - loss: 1545.0402 - mae: 28.8156 - val_loss: 671.0998 - val_mae: 25.8469\n",
            "Epoch 23/200\n",
            "10/10 [==============================] - 0s 6ms/step - loss: 1234.2704 - mae: 24.8895 - val_loss: 578.9938 - val_mae: 24.0040\n",
            "Epoch 24/200\n",
            "10/10 [==============================] - 0s 7ms/step - loss: 1360.9485 - mae: 28.6792 - val_loss: 498.1325 - val_mae: 22.2608\n",
            "Epoch 25/200\n",
            "10/10 [==============================] - 0s 9ms/step - loss: 1093.5380 - mae: 24.9244 - val_loss: 424.1086 - val_mae: 20.5357\n",
            "Epoch 26/200\n",
            "10/10 [==============================] - 0s 6ms/step - loss: 1051.1818 - mae: 25.6828 - val_loss: 358.2288 - val_mae: 18.8685\n",
            "Epoch 27/200\n",
            "10/10 [==============================] - 0s 6ms/step - loss: 914.1071 - mae: 23.9197 - val_loss: 302.2292 - val_mae: 17.3257\n",
            "Epoch 28/200\n",
            "10/10 [==============================] - 0s 6ms/step - loss: 716.0287 - mae: 20.7982 - val_loss: 253.8999 - val_mae: 15.8743\n",
            "Epoch 29/200\n",
            "10/10 [==============================] - 0s 6ms/step - loss: 716.2342 - mae: 21.2097 - val_loss: 214.2073 - val_mae: 14.5748\n",
            "Epoch 30/200\n",
            "10/10 [==============================] - 0s 6ms/step - loss: 639.9475 - mae: 20.2972 - val_loss: 179.4494 - val_mae: 13.3334\n",
            "Epoch 31/200\n",
            "10/10 [==============================] - 0s 7ms/step - loss: 535.0770 - mae: 18.6781 - val_loss: 152.2988 - val_mae: 12.2768\n",
            "Epoch 32/200\n",
            "10/10 [==============================] - 0s 6ms/step - loss: 467.9803 - mae: 17.0330 - val_loss: 129.3971 - val_mae: 11.3092\n",
            "Epoch 33/200\n",
            "10/10 [==============================] - 0s 6ms/step - loss: 457.0771 - mae: 17.3155 - val_loss: 109.0753 - val_mae: 10.3754\n",
            "Epoch 34/200\n",
            "10/10 [==============================] - 0s 7ms/step - loss: 343.8699 - mae: 14.5947 - val_loss: 92.9552 - val_mae: 9.5703\n",
            "Epoch 35/200\n",
            "10/10 [==============================] - 0s 6ms/step - loss: 420.6521 - mae: 16.9248 - val_loss: 78.6678 - val_mae: 8.7955\n",
            "Epoch 36/200\n",
            "10/10 [==============================] - 0s 8ms/step - loss: 325.5107 - mae: 14.6733 - val_loss: 65.8280 - val_mae: 8.0359\n",
            "Epoch 37/200\n",
            "10/10 [==============================] - 0s 8ms/step - loss: 322.2816 - mae: 14.6645 - val_loss: 55.9089 - val_mae: 7.3960\n",
            "Epoch 38/200\n",
            "10/10 [==============================] - 0s 7ms/step - loss: 300.8036 - mae: 14.4172 - val_loss: 47.5585 - val_mae: 6.8111\n",
            "Epoch 39/200\n",
            "10/10 [==============================] - 0s 7ms/step - loss: 290.4356 - mae: 14.0427 - val_loss: 39.4828 - val_mae: 6.1932\n",
            "Epoch 40/200\n",
            "10/10 [==============================] - 0s 6ms/step - loss: 273.9081 - mae: 13.7453 - val_loss: 32.0055 - val_mae: 5.5604\n",
            "Epoch 41/200\n",
            "10/10 [==============================] - 0s 6ms/step - loss: 218.6011 - mae: 12.2306 - val_loss: 26.1562 - val_mae: 5.0102\n",
            "Epoch 42/200\n",
            "10/10 [==============================] - 0s 8ms/step - loss: 197.7966 - mae: 11.0137 - val_loss: 21.7006 - val_mae: 4.5469\n",
            "Epoch 43/200\n",
            "10/10 [==============================] - 0s 9ms/step - loss: 192.2783 - mae: 11.1699 - val_loss: 18.0766 - val_mae: 4.1321\n",
            "Epoch 44/200\n",
            "10/10 [==============================] - 0s 6ms/step - loss: 186.1761 - mae: 10.9031 - val_loss: 15.1746 - val_mae: 3.7674\n",
            "Epoch 45/200\n",
            "10/10 [==============================] - 0s 8ms/step - loss: 170.7722 - mae: 10.4951 - val_loss: 12.6297 - val_mae: 3.4158\n",
            "Epoch 46/200\n",
            "10/10 [==============================] - 0s 6ms/step - loss: 139.9450 - mae: 9.3968 - val_loss: 10.6450 - val_mae: 3.1145\n",
            "Epoch 47/200\n",
            "10/10 [==============================] - 0s 6ms/step - loss: 126.5986 - mae: 9.0781 - val_loss: 9.2907 - val_mae: 2.8910\n",
            "Epoch 48/200\n",
            "10/10 [==============================] - 0s 7ms/step - loss: 122.4670 - mae: 8.8722 - val_loss: 8.1655 - val_mae: 2.6914\n",
            "Epoch 49/200\n",
            "10/10 [==============================] - 0s 7ms/step - loss: 119.5309 - mae: 8.6131 - val_loss: 7.0811 - val_mae: 2.4873\n",
            "Epoch 50/200\n",
            "10/10 [==============================] - 0s 12ms/step - loss: 114.4764 - mae: 8.5469 - val_loss: 6.0827 - val_mae: 2.2840\n",
            "Epoch 51/200\n",
            "10/10 [==============================] - 0s 31ms/step - loss: 108.3237 - mae: 8.2296 - val_loss: 5.2708 - val_mae: 2.1041\n",
            "Epoch 52/200\n",
            "10/10 [==============================] - 0s 19ms/step - loss: 99.8098 - mae: 7.9930 - val_loss: 4.5378 - val_mae: 1.9280\n",
            "Epoch 53/200\n",
            "10/10 [==============================] - 0s 13ms/step - loss: 84.5938 - mae: 7.1484 - val_loss: 3.9522 - val_mae: 1.7803\n",
            "Epoch 54/200\n",
            "10/10 [==============================] - 0s 11ms/step - loss: 81.8927 - mae: 7.2068 - val_loss: 3.4376 - val_mae: 1.6415\n",
            "Epoch 55/200\n",
            "10/10 [==============================] - 0s 7ms/step - loss: 71.6878 - mae: 6.5380 - val_loss: 3.0221 - val_mae: 1.5239\n",
            "Epoch 56/200\n",
            "10/10 [==============================] - 0s 6ms/step - loss: 60.0565 - mae: 5.7942 - val_loss: 2.6800 - val_mae: 1.4206\n",
            "Epoch 57/200\n",
            "10/10 [==============================] - 0s 8ms/step - loss: 59.6120 - mae: 5.9899 - val_loss: 2.4366 - val_mae: 1.3442\n",
            "Epoch 58/200\n",
            "10/10 [==============================] - 0s 7ms/step - loss: 59.9509 - mae: 6.1792 - val_loss: 2.2361 - val_mae: 1.2798\n",
            "Epoch 59/200\n",
            "10/10 [==============================] - 0s 8ms/step - loss: 52.6509 - mae: 5.5364 - val_loss: 2.0100 - val_mae: 1.2045\n",
            "Epoch 60/200\n",
            "10/10 [==============================] - 0s 9ms/step - loss: 50.2477 - mae: 5.5733 - val_loss: 1.8487 - val_mae: 1.1513\n",
            "Epoch 61/200\n",
            "10/10 [==============================] - 0s 7ms/step - loss: 45.3633 - mae: 5.2367 - val_loss: 1.7415 - val_mae: 1.1144\n",
            "Epoch 62/200\n",
            "10/10 [==============================] - 0s 8ms/step - loss: 37.5068 - mae: 4.6454 - val_loss: 1.6194 - val_mae: 1.0732\n",
            "Epoch 63/200\n",
            "10/10 [==============================] - 0s 11ms/step - loss: 36.1770 - mae: 4.6889 - val_loss: 1.5093 - val_mae: 1.0338\n",
            "Epoch 64/200\n",
            "10/10 [==============================] - 0s 7ms/step - loss: 35.8565 - mae: 4.6915 - val_loss: 1.4083 - val_mae: 0.9958\n",
            "Epoch 65/200\n",
            "10/10 [==============================] - 0s 7ms/step - loss: 30.1637 - mae: 4.2487 - val_loss: 1.3529 - val_mae: 0.9739\n",
            "Epoch 66/200\n",
            "10/10 [==============================] - 0s 6ms/step - loss: 30.1541 - mae: 4.3937 - val_loss: 1.2948 - val_mae: 0.9504\n",
            "Epoch 67/200\n",
            "10/10 [==============================] - 0s 6ms/step - loss: 26.2045 - mae: 4.0464 - val_loss: 1.2682 - val_mae: 0.9392\n",
            "Epoch 68/200\n",
            "10/10 [==============================] - 0s 8ms/step - loss: 24.2989 - mae: 3.9320 - val_loss: 1.2641 - val_mae: 0.9375\n",
            "Epoch 69/200\n",
            "10/10 [==============================] - 0s 7ms/step - loss: 22.0715 - mae: 3.7153 - val_loss: 1.2483 - val_mae: 0.9308\n",
            "Epoch 70/200\n",
            "10/10 [==============================] - 0s 6ms/step - loss: 20.4277 - mae: 3.6458 - val_loss: 1.1993 - val_mae: 0.9092\n",
            "Epoch 71/200\n",
            "10/10 [==============================] - 0s 6ms/step - loss: 17.3025 - mae: 3.2710 - val_loss: 1.1612 - val_mae: 0.8930\n",
            "Epoch 72/200\n",
            "10/10 [==============================] - 0s 9ms/step - loss: 15.8750 - mae: 3.0878 - val_loss: 1.1061 - val_mae: 0.8697\n",
            "Epoch 73/200\n",
            "10/10 [==============================] - 0s 7ms/step - loss: 14.4418 - mae: 3.0325 - val_loss: 1.0656 - val_mae: 0.8526\n",
            "Epoch 74/200\n",
            "10/10 [==============================] - 0s 6ms/step - loss: 15.8861 - mae: 3.2070 - val_loss: 1.0390 - val_mae: 0.8412\n",
            "Epoch 75/200\n",
            "10/10 [==============================] - 0s 8ms/step - loss: 12.4085 - mae: 2.7690 - val_loss: 1.0161 - val_mae: 0.8310\n",
            "Epoch 76/200\n",
            "10/10 [==============================] - 0s 9ms/step - loss: 11.4940 - mae: 2.7367 - val_loss: 1.0124 - val_mae: 0.8299\n",
            "Epoch 77/200\n",
            "10/10 [==============================] - 0s 6ms/step - loss: 12.1373 - mae: 2.7965 - val_loss: 0.9909 - val_mae: 0.8199\n",
            "Epoch 78/200\n",
            "10/10 [==============================] - 0s 6ms/step - loss: 9.4405 - mae: 2.4718 - val_loss: 0.9742 - val_mae: 0.8120\n",
            "Epoch 79/200\n",
            "10/10 [==============================] - 0s 6ms/step - loss: 9.7376 - mae: 2.4333 - val_loss: 0.9609 - val_mae: 0.8059\n",
            "Epoch 80/200\n",
            "10/10 [==============================] - 0s 8ms/step - loss: 8.6906 - mae: 2.4106 - val_loss: 0.9555 - val_mae: 0.8037\n",
            "Epoch 81/200\n",
            "10/10 [==============================] - 0s 6ms/step - loss: 8.1113 - mae: 2.3229 - val_loss: 0.9376 - val_mae: 0.7956\n",
            "Epoch 82/200\n",
            "10/10 [==============================] - 0s 6ms/step - loss: 6.3872 - mae: 1.9525 - val_loss: 0.9114 - val_mae: 0.7840\n",
            "Epoch 83/200\n",
            "10/10 [==============================] - 0s 6ms/step - loss: 6.2309 - mae: 1.9357 - val_loss: 0.8831 - val_mae: 0.7716\n",
            "Epoch 84/200\n",
            "10/10 [==============================] - 0s 8ms/step - loss: 6.5172 - mae: 2.0398 - val_loss: 0.8626 - val_mae: 0.7624\n",
            "Epoch 85/200\n",
            "10/10 [==============================] - 0s 9ms/step - loss: 5.2682 - mae: 1.8525 - val_loss: 0.8459 - val_mae: 0.7544\n",
            "Epoch 86/200\n",
            "10/10 [==============================] - 0s 8ms/step - loss: 5.3865 - mae: 1.8675 - val_loss: 0.8230 - val_mae: 0.7433\n",
            "Epoch 87/200\n",
            "10/10 [==============================] - 0s 6ms/step - loss: 4.5467 - mae: 1.6818 - val_loss: 0.7949 - val_mae: 0.7290\n",
            "Epoch 88/200\n",
            "10/10 [==============================] - 0s 8ms/step - loss: 4.5931 - mae: 1.6863 - val_loss: 0.7646 - val_mae: 0.7129\n",
            "Epoch 89/200\n",
            "10/10 [==============================] - 0s 8ms/step - loss: 3.5878 - mae: 1.5230 - val_loss: 0.7399 - val_mae: 0.6984\n",
            "Epoch 90/200\n",
            "10/10 [==============================] - 0s 6ms/step - loss: 3.1430 - mae: 1.3904 - val_loss: 0.7198 - val_mae: 0.6856\n",
            "Epoch 91/200\n",
            "10/10 [==============================] - 0s 11ms/step - loss: 3.0424 - mae: 1.4200 - val_loss: 0.7015 - val_mae: 0.6733\n",
            "Epoch 92/200\n",
            "10/10 [==============================] - 0s 10ms/step - loss: 2.8031 - mae: 1.3627 - val_loss: 0.6822 - val_mae: 0.6601\n",
            "Epoch 93/200\n",
            "10/10 [==============================] - 0s 10ms/step - loss: 2.8151 - mae: 1.3382 - val_loss: 0.6569 - val_mae: 0.6441\n",
            "Epoch 94/200\n",
            "10/10 [==============================] - 0s 9ms/step - loss: 2.6065 - mae: 1.2650 - val_loss: 0.6314 - val_mae: 0.6278\n",
            "Epoch 95/200\n",
            "10/10 [==============================] - 0s 9ms/step - loss: 2.3172 - mae: 1.2031 - val_loss: 0.6082 - val_mae: 0.6112\n",
            "Epoch 96/200\n",
            "10/10 [==============================] - 0s 11ms/step - loss: 1.9386 - mae: 1.0889 - val_loss: 0.5833 - val_mae: 0.5939\n",
            "Epoch 97/200\n",
            "10/10 [==============================] - 0s 10ms/step - loss: 2.0339 - mae: 1.1463 - val_loss: 0.5614 - val_mae: 0.5776\n",
            "Epoch 98/200\n",
            "10/10 [==============================] - 0s 9ms/step - loss: 1.8380 - mae: 1.0717 - val_loss: 0.5388 - val_mae: 0.5605\n",
            "Epoch 99/200\n",
            "10/10 [==============================] - 0s 9ms/step - loss: 1.8679 - mae: 1.0720 - val_loss: 0.5160 - val_mae: 0.5421\n",
            "Epoch 100/200\n",
            "10/10 [==============================] - 0s 9ms/step - loss: 1.5279 - mae: 0.9780 - val_loss: 0.4939 - val_mae: 0.5226\n",
            "Epoch 101/200\n",
            "10/10 [==============================] - 0s 8ms/step - loss: 1.7080 - mae: 0.9766 - val_loss: 0.4728 - val_mae: 0.5017\n",
            "Epoch 102/200\n",
            "10/10 [==============================] - 0s 9ms/step - loss: 1.6773 - mae: 0.9842 - val_loss: 0.4565 - val_mae: 0.4832\n",
            "Epoch 103/200\n",
            "10/10 [==============================] - 0s 8ms/step - loss: 1.0901 - mae: 0.8093 - val_loss: 0.4357 - val_mae: 0.4642\n",
            "Epoch 104/200\n",
            "10/10 [==============================] - 0s 11ms/step - loss: 1.1159 - mae: 0.8269 - val_loss: 0.4190 - val_mae: 0.4469\n",
            "Epoch 105/200\n",
            "10/10 [==============================] - 0s 8ms/step - loss: 1.1099 - mae: 0.8018 - val_loss: 0.4030 - val_mae: 0.4305\n",
            "Epoch 106/200\n",
            "10/10 [==============================] - 0s 10ms/step - loss: 0.9606 - mae: 0.7605 - val_loss: 0.3896 - val_mae: 0.4169\n",
            "Epoch 107/200\n",
            "10/10 [==============================] - 0s 11ms/step - loss: 1.1476 - mae: 0.8100 - val_loss: 0.3681 - val_mae: 0.3998\n",
            "Epoch 108/200\n",
            "10/10 [==============================] - 0s 9ms/step - loss: 0.8450 - mae: 0.6976 - val_loss: 0.3506 - val_mae: 0.3851\n",
            "Epoch 109/200\n",
            "10/10 [==============================] - 0s 11ms/step - loss: 0.8440 - mae: 0.6878 - val_loss: 0.3357 - val_mae: 0.3726\n",
            "Epoch 110/200\n",
            "10/10 [==============================] - 0s 9ms/step - loss: 0.7646 - mae: 0.6427 - val_loss: 0.3245 - val_mae: 0.3638\n",
            "Epoch 111/200\n",
            "10/10 [==============================] - 0s 9ms/step - loss: 0.7636 - mae: 0.6806 - val_loss: 0.3116 - val_mae: 0.3541\n",
            "Epoch 112/200\n",
            "10/10 [==============================] - 1s 57ms/step - loss: 0.7272 - mae: 0.6366 - val_loss: 0.2995 - val_mae: 0.3451\n",
            "Epoch 113/200\n",
            "10/10 [==============================] - 0s 37ms/step - loss: 0.7868 - mae: 0.6414 - val_loss: 0.2871 - val_mae: 0.3368\n",
            "Epoch 114/200\n",
            "10/10 [==============================] - 0s 14ms/step - loss: 0.6530 - mae: 0.5903 - val_loss: 0.2774 - val_mae: 0.3319\n",
            "Epoch 115/200\n",
            "10/10 [==============================] - 0s 8ms/step - loss: 0.7216 - mae: 0.6173 - val_loss: 0.2700 - val_mae: 0.3293\n",
            "Epoch 116/200\n",
            "10/10 [==============================] - 0s 8ms/step - loss: 0.6922 - mae: 0.5796 - val_loss: 0.2611 - val_mae: 0.3261\n",
            "Epoch 117/200\n",
            "10/10 [==============================] - 0s 6ms/step - loss: 0.5487 - mae: 0.5508 - val_loss: 0.2512 - val_mae: 0.3214\n",
            "Epoch 118/200\n",
            "10/10 [==============================] - 0s 6ms/step - loss: 0.7072 - mae: 0.5956 - val_loss: 0.2410 - val_mae: 0.3166\n",
            "Epoch 119/200\n",
            "10/10 [==============================] - 0s 7ms/step - loss: 0.6045 - mae: 0.5582 - val_loss: 0.2288 - val_mae: 0.3102\n",
            "Epoch 120/200\n",
            "10/10 [==============================] - 0s 8ms/step - loss: 0.4931 - mae: 0.5110 - val_loss: 0.2217 - val_mae: 0.3077\n",
            "Epoch 121/200\n",
            "10/10 [==============================] - 0s 6ms/step - loss: 0.3993 - mae: 0.4671 - val_loss: 0.2183 - val_mae: 0.3089\n",
            "Epoch 122/200\n",
            "10/10 [==============================] - 0s 8ms/step - loss: 0.4787 - mae: 0.4874 - val_loss: 0.2144 - val_mae: 0.3092\n",
            "Epoch 123/200\n",
            "10/10 [==============================] - 0s 7ms/step - loss: 0.5345 - mae: 0.4989 - val_loss: 0.2097 - val_mae: 0.3087\n",
            "Epoch 124/200\n",
            "10/10 [==============================] - 0s 8ms/step - loss: 0.3854 - mae: 0.4548 - val_loss: 0.2071 - val_mae: 0.3101\n",
            "Epoch 125/200\n",
            "10/10 [==============================] - 0s 6ms/step - loss: 0.3950 - mae: 0.4559 - val_loss: 0.2017 - val_mae: 0.3086\n",
            "Epoch 126/200\n",
            "10/10 [==============================] - 0s 7ms/step - loss: 0.4737 - mae: 0.4686 - val_loss: 0.1962 - val_mae: 0.3064\n",
            "Epoch 127/200\n",
            "10/10 [==============================] - 0s 6ms/step - loss: 0.3955 - mae: 0.4369 - val_loss: 0.1896 - val_mae: 0.3029\n",
            "Epoch 128/200\n",
            "10/10 [==============================] - 0s 6ms/step - loss: 0.3731 - mae: 0.4245 - val_loss: 0.1837 - val_mae: 0.3000\n",
            "Epoch 129/200\n",
            "10/10 [==============================] - 0s 6ms/step - loss: 0.4274 - mae: 0.4365 - val_loss: 0.1764 - val_mae: 0.2946\n",
            "Epoch 130/200\n",
            "10/10 [==============================] - 0s 6ms/step - loss: 0.4050 - mae: 0.4434 - val_loss: 0.1711 - val_mae: 0.2920\n",
            "Epoch 131/200\n",
            "10/10 [==============================] - 0s 8ms/step - loss: 0.3412 - mae: 0.4190 - val_loss: 0.1676 - val_mae: 0.2913\n",
            "Epoch 132/200\n",
            "10/10 [==============================] - 0s 7ms/step - loss: 0.3664 - mae: 0.4418 - val_loss: 0.1645 - val_mae: 0.2905\n",
            "Epoch 133/200\n",
            "10/10 [==============================] - 0s 6ms/step - loss: 0.3803 - mae: 0.4136 - val_loss: 0.1613 - val_mae: 0.2896\n",
            "Epoch 134/200\n",
            "10/10 [==============================] - 0s 8ms/step - loss: 0.3931 - mae: 0.4106 - val_loss: 0.1585 - val_mae: 0.2891\n",
            "Epoch 135/200\n",
            "10/10 [==============================] - 0s 8ms/step - loss: 0.3447 - mae: 0.4006 - val_loss: 0.1553 - val_mae: 0.2879\n",
            "Epoch 136/200\n",
            "10/10 [==============================] - 0s 6ms/step - loss: 0.2622 - mae: 0.3716 - val_loss: 0.1517 - val_mae: 0.2859\n",
            "Epoch 137/200\n",
            "10/10 [==============================] - 0s 7ms/step - loss: 0.2760 - mae: 0.3871 - val_loss: 0.1488 - val_mae: 0.2844\n",
            "Epoch 138/200\n",
            "10/10 [==============================] - 0s 8ms/step - loss: 0.2345 - mae: 0.3594 - val_loss: 0.1469 - val_mae: 0.2841\n",
            "Epoch 139/200\n",
            "10/10 [==============================] - 0s 6ms/step - loss: 0.2627 - mae: 0.3785 - val_loss: 0.1441 - val_mae: 0.2823\n",
            "Epoch 140/200\n",
            "10/10 [==============================] - 0s 7ms/step - loss: 0.2261 - mae: 0.3611 - val_loss: 0.1425 - val_mae: 0.2820\n",
            "Epoch 141/200\n",
            "10/10 [==============================] - 0s 6ms/step - loss: 0.2484 - mae: 0.3349 - val_loss: 0.1411 - val_mae: 0.2821\n",
            "Epoch 142/200\n",
            "10/10 [==============================] - 0s 8ms/step - loss: 0.2704 - mae: 0.3858 - val_loss: 0.1389 - val_mae: 0.2810\n",
            "Epoch 143/200\n",
            "10/10 [==============================] - 0s 7ms/step - loss: 0.3541 - mae: 0.4283 - val_loss: 0.1347 - val_mae: 0.2775\n",
            "Epoch 144/200\n",
            "10/10 [==============================] - 0s 6ms/step - loss: 0.2518 - mae: 0.3623 - val_loss: 0.1324 - val_mae: 0.2762\n",
            "Epoch 145/200\n",
            "10/10 [==============================] - 0s 6ms/step - loss: 0.2579 - mae: 0.3625 - val_loss: 0.1295 - val_mae: 0.2742\n",
            "Epoch 146/200\n",
            "10/10 [==============================] - 0s 9ms/step - loss: 0.2337 - mae: 0.3497 - val_loss: 0.1279 - val_mae: 0.2735\n",
            "Epoch 147/200\n",
            "10/10 [==============================] - 0s 8ms/step - loss: 0.3078 - mae: 0.3838 - val_loss: 0.1241 - val_mae: 0.2701\n",
            "Epoch 148/200\n",
            "10/10 [==============================] - 0s 6ms/step - loss: 0.2008 - mae: 0.3430 - val_loss: 0.1219 - val_mae: 0.2687\n",
            "Epoch 149/200\n",
            "10/10 [==============================] - 0s 7ms/step - loss: 0.2203 - mae: 0.3308 - val_loss: 0.1205 - val_mae: 0.2683\n",
            "Epoch 150/200\n",
            "10/10 [==============================] - 0s 8ms/step - loss: 0.2460 - mae: 0.3411 - val_loss: 0.1203 - val_mae: 0.2696\n",
            "Epoch 151/200\n",
            "10/10 [==============================] - 0s 6ms/step - loss: 0.2060 - mae: 0.3313 - val_loss: 0.1203 - val_mae: 0.2711\n",
            "Epoch 152/200\n",
            "10/10 [==============================] - 0s 8ms/step - loss: 0.3118 - mae: 0.3505 - val_loss: 0.1195 - val_mae: 0.2718\n",
            "Epoch 153/200\n",
            "10/10 [==============================] - 0s 7ms/step - loss: 0.2002 - mae: 0.3402 - val_loss: 0.1188 - val_mae: 0.2723\n",
            "Epoch 154/200\n",
            "10/10 [==============================] - 0s 7ms/step - loss: 0.2954 - mae: 0.3637 - val_loss: 0.1166 - val_mae: 0.2708\n",
            "Epoch 155/200\n",
            "10/10 [==============================] - 0s 8ms/step - loss: 0.2188 - mae: 0.3590 - val_loss: 0.1158 - val_mae: 0.2709\n",
            "Epoch 156/200\n",
            "10/10 [==============================] - 0s 8ms/step - loss: 0.1847 - mae: 0.3308 - val_loss: 0.1160 - val_mae: 0.2723\n",
            "Epoch 157/200\n",
            "10/10 [==============================] - 0s 8ms/step - loss: 0.1885 - mae: 0.3278 - val_loss: 0.1156 - val_mae: 0.2727\n",
            "Epoch 158/200\n",
            "10/10 [==============================] - 0s 8ms/step - loss: 0.1586 - mae: 0.3016 - val_loss: 0.1146 - val_mae: 0.2722\n",
            "Epoch 159/200\n",
            "10/10 [==============================] - 0s 6ms/step - loss: 0.1878 - mae: 0.3401 - val_loss: 0.1133 - val_mae: 0.2711\n",
            "Epoch 160/200\n",
            "10/10 [==============================] - 0s 9ms/step - loss: 0.2048 - mae: 0.3454 - val_loss: 0.1124 - val_mae: 0.2705\n",
            "Epoch 161/200\n",
            "10/10 [==============================] - 0s 6ms/step - loss: 0.2797 - mae: 0.3874 - val_loss: 0.1105 - val_mae: 0.2688\n",
            "Epoch 162/200\n",
            "10/10 [==============================] - 0s 7ms/step - loss: 0.2083 - mae: 0.3316 - val_loss: 0.1087 - val_mae: 0.2670\n",
            "Epoch 163/200\n",
            "10/10 [==============================] - 0s 8ms/step - loss: 0.2033 - mae: 0.3344 - val_loss: 0.1074 - val_mae: 0.2661\n",
            "Epoch 164/200\n",
            "10/10 [==============================] - 0s 7ms/step - loss: 0.2147 - mae: 0.3354 - val_loss: 0.1063 - val_mae: 0.2655\n",
            "Epoch 165/200\n",
            "10/10 [==============================] - 0s 8ms/step - loss: 0.2283 - mae: 0.3421 - val_loss: 0.1046 - val_mae: 0.2639\n",
            "Epoch 166/200\n",
            "10/10 [==============================] - 0s 7ms/step - loss: 0.1876 - mae: 0.3213 - val_loss: 0.1041 - val_mae: 0.2641\n",
            "Epoch 167/200\n",
            "10/10 [==============================] - 0s 6ms/step - loss: 0.2021 - mae: 0.3277 - val_loss: 0.1032 - val_mae: 0.2636\n",
            "Epoch 168/200\n",
            "10/10 [==============================] - 0s 7ms/step - loss: 0.2291 - mae: 0.3233 - val_loss: 0.1013 - val_mae: 0.2615\n",
            "Epoch 169/200\n",
            "10/10 [==============================] - 0s 6ms/step - loss: 0.1881 - mae: 0.3162 - val_loss: 0.1000 - val_mae: 0.2603\n",
            "Epoch 170/200\n",
            "10/10 [==============================] - 0s 8ms/step - loss: 0.2249 - mae: 0.3315 - val_loss: 0.0997 - val_mae: 0.2605\n",
            "Epoch 171/200\n",
            "10/10 [==============================] - 0s 7ms/step - loss: 0.1612 - mae: 0.3132 - val_loss: 0.1000 - val_mae: 0.2618\n",
            "Epoch 172/200\n",
            "10/10 [==============================] - 0s 8ms/step - loss: 0.1484 - mae: 0.3030 - val_loss: 0.1005 - val_mae: 0.2630\n",
            "Epoch 173/200\n",
            "10/10 [==============================] - 0s 9ms/step - loss: 0.1554 - mae: 0.3013 - val_loss: 0.1011 - val_mae: 0.2644\n",
            "Epoch 174/200\n",
            "10/10 [==============================] - 0s 7ms/step - loss: 0.2120 - mae: 0.3468 - val_loss: 0.1009 - val_mae: 0.2645\n",
            "Epoch 175/200\n",
            "10/10 [==============================] - 0s 12ms/step - loss: 0.1698 - mae: 0.3178 - val_loss: 0.1003 - val_mae: 0.2641\n",
            "Epoch 176/200\n",
            "10/10 [==============================] - 0s 9ms/step - loss: 0.2383 - mae: 0.3351 - val_loss: 0.0988 - val_mae: 0.2623\n",
            "Epoch 177/200\n",
            "10/10 [==============================] - 0s 7ms/step - loss: 0.2290 - mae: 0.3257 - val_loss: 0.0975 - val_mae: 0.2610\n",
            "Epoch 178/200\n",
            "10/10 [==============================] - 0s 8ms/step - loss: 0.2421 - mae: 0.3324 - val_loss: 0.0968 - val_mae: 0.2607\n",
            "Epoch 179/200\n",
            "10/10 [==============================] - 0s 6ms/step - loss: 0.1685 - mae: 0.3113 - val_loss: 0.0960 - val_mae: 0.2600\n",
            "Epoch 180/200\n",
            "10/10 [==============================] - 0s 6ms/step - loss: 0.2159 - mae: 0.3337 - val_loss: 0.0948 - val_mae: 0.2584\n",
            "Epoch 181/200\n",
            "10/10 [==============================] - 0s 7ms/step - loss: 0.2379 - mae: 0.3395 - val_loss: 0.0943 - val_mae: 0.2582\n",
            "Epoch 182/200\n",
            "10/10 [==============================] - 0s 6ms/step - loss: 0.2383 - mae: 0.3412 - val_loss: 0.0937 - val_mae: 0.2580\n",
            "Epoch 183/200\n",
            "10/10 [==============================] - 0s 6ms/step - loss: 0.1461 - mae: 0.2942 - val_loss: 0.0931 - val_mae: 0.2575\n",
            "Epoch 184/200\n",
            "10/10 [==============================] - 0s 7ms/step - loss: 0.1733 - mae: 0.3218 - val_loss: 0.0929 - val_mae: 0.2575\n",
            "Epoch 185/200\n",
            "10/10 [==============================] - 0s 8ms/step - loss: 0.2201 - mae: 0.3205 - val_loss: 0.0936 - val_mae: 0.2592\n",
            "Epoch 186/200\n",
            "10/10 [==============================] - 0s 8ms/step - loss: 0.1737 - mae: 0.3132 - val_loss: 0.0942 - val_mae: 0.2608\n",
            "Epoch 187/200\n",
            "10/10 [==============================] - 0s 6ms/step - loss: 0.1883 - mae: 0.3197 - val_loss: 0.0941 - val_mae: 0.2609\n",
            "Epoch 188/200\n",
            "10/10 [==============================] - 0s 8ms/step - loss: 0.1968 - mae: 0.3217 - val_loss: 0.0934 - val_mae: 0.2601\n",
            "Epoch 189/200\n",
            "10/10 [==============================] - 0s 7ms/step - loss: 0.1965 - mae: 0.3201 - val_loss: 0.0917 - val_mae: 0.2574\n",
            "Epoch 190/200\n",
            "10/10 [==============================] - 0s 8ms/step - loss: 0.1594 - mae: 0.3043 - val_loss: 0.0905 - val_mae: 0.2556\n",
            "Epoch 191/200\n",
            "10/10 [==============================] - 0s 7ms/step - loss: 0.1937 - mae: 0.3191 - val_loss: 0.0895 - val_mae: 0.2544\n",
            "Epoch 192/200\n",
            "10/10 [==============================] - 0s 9ms/step - loss: 0.1662 - mae: 0.3083 - val_loss: 0.0902 - val_mae: 0.2559\n",
            "Epoch 193/200\n",
            "10/10 [==============================] - 0s 8ms/step - loss: 0.1735 - mae: 0.3154 - val_loss: 0.0908 - val_mae: 0.2571\n",
            "Epoch 194/200\n",
            "10/10 [==============================] - 0s 8ms/step - loss: 0.1497 - mae: 0.2842 - val_loss: 0.0912 - val_mae: 0.2581\n",
            "Epoch 195/200\n",
            "10/10 [==============================] - 0s 9ms/step - loss: 0.1686 - mae: 0.3011 - val_loss: 0.0907 - val_mae: 0.2575\n",
            "Epoch 196/200\n",
            "10/10 [==============================] - 0s 9ms/step - loss: 0.1516 - mae: 0.2907 - val_loss: 0.0910 - val_mae: 0.2582\n",
            "Epoch 197/200\n",
            "10/10 [==============================] - 0s 7ms/step - loss: 0.1803 - mae: 0.3013 - val_loss: 0.0897 - val_mae: 0.2562\n",
            "Epoch 198/200\n",
            "10/10 [==============================] - 0s 7ms/step - loss: 0.1982 - mae: 0.3202 - val_loss: 0.0884 - val_mae: 0.2542\n",
            "Epoch 199/200\n",
            "10/10 [==============================] - 0s 7ms/step - loss: 0.1453 - mae: 0.2902 - val_loss: 0.0876 - val_mae: 0.2532\n",
            "Epoch 200/200\n",
            "10/10 [==============================] - 0s 7ms/step - loss: 0.1643 - mae: 0.2989 - val_loss: 0.0878 - val_mae: 0.2538\n"
          ]
        }
      ]
    },
    {
      "cell_type": "code",
      "source": [
        "# importando \"libs\" para visualização gráfica e para ajustes de parâmetros e etc\n",
        "import matplotlib.pyplot as plt\n",
        "\n",
        "from pylab import rcParams\n",
        "\n",
        "%matplotlib inline\n",
        "# plt.style.use('ggplot')\n",
        "plt.style.use('fivethirtyeight')\n",
        "rcParams['figure.figsize'] = 14, 5"
      ],
      "metadata": {
        "id": "wkD22yAfoIxA"
      },
      "execution_count": 23,
      "outputs": []
    },
    {
      "cell_type": "code",
      "source": [
        "plt.plot(history.history['loss'])\n",
        "plt.plot(history.history['val_loss'])\n",
        "\n",
        "plt.title('History - LOSS\\n', size=20)\n",
        "plt.xlabel('\\nepochs')\n",
        "plt.ylabel('loss\\n')\n",
        "plt.legend(['train loss', 'val loss'])\n",
        "plt.show()"
      ],
      "metadata": {
        "colab": {
          "base_uri": "https://localhost:8080/",
          "height": 426
        },
        "id": "TAklkKNMoIvQ",
        "outputId": "33be46a1-4762-4c9b-bd94-5c6f7144ee3e"
      },
      "execution_count": 24,
      "outputs": [
        {
          "output_type": "display_data",
          "data": {
            "text/plain": [
              "<Figure size 1008x360 with 1 Axes>"
            ],
            "image/png": "[encoded data removed]"
          },
          "metadata": {}
        }
      ]
    },
    {
      "cell_type": "code",
      "source": [
        "plt.plot(history.history['mae'])\n",
        "plt.plot(history.history['val_mae'])\n",
        "\n",
        "plt.title('History - MAE\\n', size=20)\n",
        "plt.xlabel('\\nepochs')\n",
        "plt.ylabel('loss\\n')\n",
        "plt.legend(['train mae', 'val mae'])\n",
        "plt.show()"
      ],
      "metadata": {
        "id": "jImsy1yVoIrE",
        "colab": {
          "base_uri": "https://localhost:8080/",
          "height": 426
        },
        "outputId": "65edcdb0-8628-4e46-e5ba-c1ee74764a63"
      },
      "execution_count": 25,
      "outputs": [
        {
          "output_type": "display_data",
          "data": {
            "text/plain": [
              "<Figure size 1008x360 with 1 Axes>"
            ],
            "image/png": "[encoded data removed]"
          },
          "metadata": {}
        }
      ]
    },
    {
      "cell_type": "code",
      "source": [
        "%whos"
      ],
      "metadata": {
        "colab": {
          "base_uri": "https://localhost:8080/"
        },
        "id": "u44nOGCd5vuL",
        "outputId": "6e5963df-d9ad-4588-b06d-5bea0d6b7b47"
      },
      "execution_count": 26,
      "outputs": [
        {
          "output_type": "stream",
          "name": "stdout",
          "text": [
            "Variable     Type          Data/Info\n",
            "------------------------------------\n",
            "Dense        type          <class 'keras.layers.core.dense.Dense'>\n",
            "Dropout      type          <class 'keras.layers.regu<...>ization.dropout.Dropout'>\n",
            "Sequential   type          <class 'keras.engine.sequential.Sequential'>\n",
            "X            DataFrame          GRE Score  TOEFL Sco<...>n\\n[400 rows x 7 columns]\n",
            "X_train      DataFrame          GRE Score  TOEFL Sco<...>n\\n[300 rows x 7 columns]\n",
            "X_val        DataFrame          GRE Score  TOEFL Sco<...>n\\n[100 rows x 7 columns]\n",
            "df           DataFrame          GRE Score  TOEFL Sco<...>n\\n[400 rows x 8 columns]\n",
            "history      History       <keras.callbacks.History <...>object at 0x7f6ce53a0c40>\n",
            "keras        module        <module 'keras' from '/us<...>kages/keras/__init__.py'>\n",
            "model        Sequential    <keras.engine.sequential.<...>object at 0x7f6ceadb79d0>\n",
            "pd           module        <module 'pandas' from '/u<...>ages/pandas/__init__.py'>\n",
            "plot_model   function      <function plot_model at 0x7f6cf198aaf0>\n",
            "plt          module        <module 'matplotlib.pyplo<...>es/matplotlib/pyplot.py'>\n",
            "rcParams     RcParams      _internal.classic_mode: F<...>: 0.6\\nytick.right: False\n",
            "y            Series        0      0.75\\n1      0.86\\<...>ngth: 400, dtype: float64\n",
            "y_train      Series        0      0.75\\n1      0.86\\<...>ngth: 300, dtype: float64\n",
            "y_val        Series        300    0.63\\n301    0.64\\<...>ngth: 100, dtype: float64\n"
          ]
        }
      ]
    },
    {
      "cell_type": "code",
      "source": [
        "%who_ls"
      ],
      "metadata": {
        "id": "PR68TTkmoIpl",
        "colab": {
          "base_uri": "https://localhost:8080/"
        },
        "outputId": "b50cc4bf-4c55-4075-9c3a-14de108eab96"
      },
      "execution_count": 27,
      "outputs": [
        {
          "output_type": "execute_result",
          "data": {
            "text/plain": [
              "['Dense',\n",
              " 'Dropout',\n",
              " 'Sequential',\n",
              " 'X',\n",
              " 'X_train',\n",
              " 'X_val',\n",
              " 'df',\n",
              " 'history',\n",
              " 'keras',\n",
              " 'model',\n",
              " 'pd',\n",
              " 'plot_model',\n",
              " 'plt',\n",
              " 'rcParams',\n",
              " 'y',\n",
              " 'y_train',\n",
              " 'y_val']"
            ]
          },
          "metadata": {},
          "execution_count": 27
        }
      ]
    },
    {
      "cell_type": "code",
      "source": [],
      "metadata": {
        "id": "sp8XEKWo55Kj"
      },
      "execution_count": null,
      "outputs": []
    },
    {
      "cell_type": "code",
      "source": [],
      "metadata": {
        "id": "F3jnt93q54er"
      },
      "execution_count": null,
      "outputs": []
    },
    {
      "cell_type": "code",
      "source": [],
      "metadata": {
        "id": "cwLTpdj7oIck"
      },
      "execution_count": null,
      "outputs": []
    }
  ]
}
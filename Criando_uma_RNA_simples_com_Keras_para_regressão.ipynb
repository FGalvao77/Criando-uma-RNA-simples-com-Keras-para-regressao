{
  "nbformat": 4,
  "nbformat_minor": 0,
  "metadata": {
    "colab": {
      "provenance": [],
      "authorship_tag": "ABX9TyPde5yI58bZ8/7/vXxk5A6g",
      "include_colab_link": true
    },
    "kernelspec": {
      "name": "python3",
      "display_name": "Python 3"
    },
    "language_info": {
      "name": "python"
    }
  },
  "cells": [
    {
      "cell_type": "markdown",
      "metadata": {
        "id": "view-in-github",
        "colab_type": "text"
      },
      "source": [
        "<a href=\"https://colab.research.google.com/github/FGalvao77/Criando-uma-RNA-simples-com-Keras-para-regressao/blob/main/Criando_uma_RNA_simples_com_Keras_para_regress%C3%A3o.ipynb\" target=\"_parent\"><img src=\"https://colab.research.google.com/assets/colab-badge.svg\" alt=\"Open In Colab\"/></a>"
      ]
    },
    {
      "cell_type": "markdown",
      "source": [
        "## **Criando uma RNA simples com Keras para regressão**\n",
        "---\n",
        "---"
      ],
      "metadata": {
        "id": "hSXHLDp9Taaj"
      }
    },
    {
      "cell_type": "code",
      "source": [
        "!curl https://didatica.tech/wp-content/uploads/2023/02/admission_dataset.csv >> admission.csv"
      ],
      "metadata": {
        "colab": {
          "base_uri": "https://localhost:8080/"
        },
        "id": "DKBJ0Zu-k1vi",
        "outputId": "da437073-4397-4fd5-dac8-43d75ca10e5b"
      },
      "execution_count": 1,
      "outputs": [
        {
          "output_type": "stream",
          "name": "stdout",
          "text": [
            "  % Total    % Received % Xferd  Average Speed   Time    Time     Time  Current\n",
            "                                 Dload  Upload   Total   Spent    Left  Speed\n",
            "\r  0     0    0     0    0     0      0      0 --:--:-- --:--:-- --:--:--     0\r100 12322  100 12322    0     0   185k      0 --:--:-- --:--:-- --:--:--  188k\n"
          ]
        }
      ]
    },
    {
      "cell_type": "code",
      "source": [
        "!head admission.csv"
      ],
      "metadata": {
        "colab": {
          "base_uri": "https://localhost:8080/"
        },
        "id": "J6xAiS0Pk1tW",
        "outputId": "74c13e9e-add9-45b4-a735-4469e8760d8a"
      },
      "execution_count": 2,
      "outputs": [
        {
          "output_type": "stream",
          "name": "stdout",
          "text": [
            "GRE Score,TOEFL Score,University Rating,SOP,LOR ,CGPA,Research,Chance of Admit \r\n",
            "315,105,3,2.0,2.5,8.48,0,0.75\r\n",
            "321,112,5,5.0,5.0,9.06,1,0.86\r\n",
            "327,103,3,4.0,4.0,8.3,1,0.74\r\n",
            "305,112,3,3.0,3.5,8.65,0,0.71\r\n",
            "297,96,2,2.5,1.5,7.89,0,0.43\r\n",
            "321,109,3,3.0,4.0,8.2,1,0.75\r\n",
            "298,99,1,1.5,3.0,7.46,0,0.53\r\n",
            "312,109,3,3.0,3.0,8.69,0,0.77\r\n",
            "320,108,3,3.5,4.0,8.44,1,0.76\r\n"
          ]
        }
      ]
    },
    {
      "cell_type": "code",
      "execution_count": 3,
      "metadata": {
        "colab": {
          "base_uri": "https://localhost:8080/"
        },
        "id": "uWL-GZGHkt-D",
        "outputId": "2d1f9b13-ac88-4b1f-8da7-cd0b89648cf7"
      },
      "outputs": [
        {
          "output_type": "stream",
          "name": "stdout",
          "text": [
            "VERSION: 2.11.0\n"
          ]
        }
      ],
      "source": [
        "import keras\n",
        "\n",
        "print(f'VERSION: {keras.__version__}')"
      ]
    },
    {
      "cell_type": "code",
      "source": [
        "import pandas as pd"
      ],
      "metadata": {
        "id": "mws5wAZ7k1yg"
      },
      "execution_count": 4,
      "outputs": []
    },
    {
      "cell_type": "code",
      "source": [
        "df = pd.read_csv(\n",
        "    filepath_or_buffer='admission.csv'\n",
        ")"
      ],
      "metadata": {
        "id": "98nPadRkk1rX"
      },
      "execution_count": 5,
      "outputs": []
    },
    {
      "cell_type": "code",
      "source": [
        "df.head()"
      ],
      "metadata": {
        "colab": {
          "base_uri": "https://localhost:8080/",
          "height": 206
        },
        "id": "5LMkgTPuk1o9",
        "outputId": "cee888ca-490d-4bb2-981e-c0e105192839"
      },
      "execution_count": 6,
      "outputs": [
        {
          "output_type": "execute_result",
          "data": {
            "text/plain": [
              "   GRE Score  TOEFL Score  University Rating  SOP  LOR   CGPA  Research  \\\n",
              "0        315          105                  3  2.0   2.5  8.48         0   \n",
              "1        321          112                  5  5.0   5.0  9.06         1   \n",
              "2        327          103                  3  4.0   4.0  8.30         1   \n",
              "3        305          112                  3  3.0   3.5  8.65         0   \n",
              "4        297           96                  2  2.5   1.5  7.89         0   \n",
              "\n",
              "   Chance of Admit   \n",
              "0              0.75  \n",
              "1              0.86  \n",
              "2              0.74  \n",
              "3              0.71  \n",
              "4              0.43  "
            ],
            "text/html": [
              "\n",
              "  <div id=\"df-26dae258-ee05-4225-a9ad-1660454e4ebb\">\n",
              "    <div class=\"colab-df-container\">\n",
              "      <div>\n",
              "<style scoped>\n",
              "    .dataframe tbody tr th:only-of-type {\n",
              "        vertical-align: middle;\n",
              "    }\n",
              "\n",
              "    .dataframe tbody tr th {\n",
              "        vertical-align: top;\n",
              "    }\n",
              "\n",
              "    .dataframe thead th {\n",
              "        text-align: right;\n",
              "    }\n",
              "</style>\n",
              "<table border=\"1\" class=\"dataframe\">\n",
              "  <thead>\n",
              "    <tr style=\"text-align: right;\">\n",
              "      <th></th>\n",
              "      <th>GRE Score</th>\n",
              "      <th>TOEFL Score</th>\n",
              "      <th>University Rating</th>\n",
              "      <th>SOP</th>\n",
              "      <th>LOR</th>\n",
              "      <th>CGPA</th>\n",
              "      <th>Research</th>\n",
              "      <th>Chance of Admit</th>\n",
              "    </tr>\n",
              "  </thead>\n",
              "  <tbody>\n",
              "    <tr>\n",
              "      <th>0</th>\n",
              "      <td>315</td>\n",
              "      <td>105</td>\n",
              "      <td>3</td>\n",
              "      <td>2.0</td>\n",
              "      <td>2.5</td>\n",
              "      <td>8.48</td>\n",
              "      <td>0</td>\n",
              "      <td>0.75</td>\n",
              "    </tr>\n",
              "    <tr>\n",
              "      <th>1</th>\n",
              "      <td>321</td>\n",
              "      <td>112</td>\n",
              "      <td>5</td>\n",
              "      <td>5.0</td>\n",
              "      <td>5.0</td>\n",
              "      <td>9.06</td>\n",
              "      <td>1</td>\n",
              "      <td>0.86</td>\n",
              "    </tr>\n",
              "    <tr>\n",
              "      <th>2</th>\n",
              "      <td>327</td>\n",
              "      <td>103</td>\n",
              "      <td>3</td>\n",
              "      <td>4.0</td>\n",
              "      <td>4.0</td>\n",
              "      <td>8.30</td>\n",
              "      <td>1</td>\n",
              "      <td>0.74</td>\n",
              "    </tr>\n",
              "    <tr>\n",
              "      <th>3</th>\n",
              "      <td>305</td>\n",
              "      <td>112</td>\n",
              "      <td>3</td>\n",
              "      <td>3.0</td>\n",
              "      <td>3.5</td>\n",
              "      <td>8.65</td>\n",
              "      <td>0</td>\n",
              "      <td>0.71</td>\n",
              "    </tr>\n",
              "    <tr>\n",
              "      <th>4</th>\n",
              "      <td>297</td>\n",
              "      <td>96</td>\n",
              "      <td>2</td>\n",
              "      <td>2.5</td>\n",
              "      <td>1.5</td>\n",
              "      <td>7.89</td>\n",
              "      <td>0</td>\n",
              "      <td>0.43</td>\n",
              "    </tr>\n",
              "  </tbody>\n",
              "</table>\n",
              "</div>\n",
              "      <button class=\"colab-df-convert\" onclick=\"convertToInteractive('df-26dae258-ee05-4225-a9ad-1660454e4ebb')\"\n",
              "              title=\"Convert this dataframe to an interactive table.\"\n",
              "              style=\"display:none;\">\n",
              "        \n",
              "  <svg xmlns=\"http://www.w3.org/2000/svg\" height=\"24px\"viewBox=\"0 0 24 24\"\n",
              "       width=\"24px\">\n",
              "    <path d=\"M0 0h24v24H0V0z\" fill=\"none\"/>\n",
              "    <path d=\"M18.56 5.44l.94 2.06.94-2.06 2.06-.94-2.06-.94-.94-2.06-.94 2.06-2.06.94zm-11 1L8.5 8.5l.94-2.06 2.06-.94-2.06-.94L8.5 2.5l-.94 2.06-2.06.94zm10 10l.94 2.06.94-2.06 2.06-.94-2.06-.94-.94-2.06-.94 2.06-2.06.94z\"/><path d=\"M17.41 7.96l-1.37-1.37c-.4-.4-.92-.59-1.43-.59-.52 0-1.04.2-1.43.59L10.3 9.45l-7.72 7.72c-.78.78-.78 2.05 0 2.83L4 21.41c.39.39.9.59 1.41.59.51 0 1.02-.2 1.41-.59l7.78-7.78 2.81-2.81c.8-.78.8-2.07 0-2.86zM5.41 20L4 18.59l7.72-7.72 1.47 1.35L5.41 20z\"/>\n",
              "  </svg>\n",
              "      </button>\n",
              "      \n",
              "  <style>\n",
              "    .colab-df-container {\n",
              "      display:flex;\n",
              "      flex-wrap:wrap;\n",
              "      gap: 12px;\n",
              "    }\n",
              "\n",
              "    .colab-df-convert {\n",
              "      background-color: #E8F0FE;\n",
              "      border: none;\n",
              "      border-radius: 50%;\n",
              "      cursor: pointer;\n",
              "      display: none;\n",
              "      fill: #1967D2;\n",
              "      height: 32px;\n",
              "      padding: 0 0 0 0;\n",
              "      width: 32px;\n",
              "    }\n",
              "\n",
              "    .colab-df-convert:hover {\n",
              "      background-color: #E2EBFA;\n",
              "      box-shadow: 0px 1px 2px rgba(60, 64, 67, 0.3), 0px 1px 3px 1px rgba(60, 64, 67, 0.15);\n",
              "      fill: #174EA6;\n",
              "    }\n",
              "\n",
              "    [theme=dark] .colab-df-convert {\n",
              "      background-color: #3B4455;\n",
              "      fill: #D2E3FC;\n",
              "    }\n",
              "\n",
              "    [theme=dark] .colab-df-convert:hover {\n",
              "      background-color: #434B5C;\n",
              "      box-shadow: 0px 1px 3px 1px rgba(0, 0, 0, 0.15);\n",
              "      filter: drop-shadow(0px 1px 2px rgba(0, 0, 0, 0.3));\n",
              "      fill: #FFFFFF;\n",
              "    }\n",
              "  </style>\n",
              "\n",
              "      <script>\n",
              "        const buttonEl =\n",
              "          document.querySelector('#df-26dae258-ee05-4225-a9ad-1660454e4ebb button.colab-df-convert');\n",
              "        buttonEl.style.display =\n",
              "          google.colab.kernel.accessAllowed ? 'block' : 'none';\n",
              "\n",
              "        async function convertToInteractive(key) {\n",
              "          const element = document.querySelector('#df-26dae258-ee05-4225-a9ad-1660454e4ebb');\n",
              "          const dataTable =\n",
              "            await google.colab.kernel.invokeFunction('convertToInteractive',\n",
              "                                                     [key], {});\n",
              "          if (!dataTable) return;\n",
              "\n",
              "          const docLinkHtml = 'Like what you see? Visit the ' +\n",
              "            '<a target=\"_blank\" href=https://colab.research.google.com/notebooks/data_table.ipynb>data table notebook</a>'\n",
              "            + ' to learn more about interactive tables.';\n",
              "          element.innerHTML = '';\n",
              "          dataTable['output_type'] = 'display_data';\n",
              "          await google.colab.output.renderOutput(dataTable, element);\n",
              "          const docLink = document.createElement('div');\n",
              "          docLink.innerHTML = docLinkHtml;\n",
              "          element.appendChild(docLink);\n",
              "        }\n",
              "      </script>\n",
              "    </div>\n",
              "  </div>\n",
              "  "
            ]
          },
          "metadata": {},
          "execution_count": 6
        }
      ]
    },
    {
      "cell_type": "code",
      "source": [
        "X  = df.drop(columns='Chance of Admit ', axis=1)\n",
        "y = df['Chance of Admit ']"
      ],
      "metadata": {
        "id": "OwXTxcm4k1m4"
      },
      "execution_count": 7,
      "outputs": []
    },
    {
      "cell_type": "code",
      "source": [
        "X_train, X_val = X[0:300], X[300:]\n",
        "y_train, y_val = y[0:300], y[300:]"
      ],
      "metadata": {
        "id": "WPC0oLWJk1kz"
      },
      "execution_count": 8,
      "outputs": []
    },
    {
      "cell_type": "code",
      "source": [
        "X_train.shape"
      ],
      "metadata": {
        "colab": {
          "base_uri": "https://localhost:8080/"
        },
        "id": "BF2vmdShk1ib",
        "outputId": "2eacdecb-d20e-4913-b397-cf7633343944"
      },
      "execution_count": 9,
      "outputs": [
        {
          "output_type": "execute_result",
          "data": {
            "text/plain": [
              "(300, 7)"
            ]
          },
          "metadata": {},
          "execution_count": 9
        }
      ]
    },
    {
      "cell_type": "code",
      "source": [
        "from keras.models import Sequential\n",
        "from keras.layers import Dense, Dropout"
      ],
      "metadata": {
        "id": "LzHLKEtrk1gC"
      },
      "execution_count": 10,
      "outputs": []
    },
    {
      "cell_type": "code",
      "source": [
        "model = Sequential()\n",
        "\n",
        "model.add(Dense(units=3, activation='relu', input_dim=7))\n",
        "model.add(Dropout(rate=0.5))\n",
        "model.add(Dense(units=1, activation='linear'))"
      ],
      "metadata": {
        "id": "HE-JZJkRk1da"
      },
      "execution_count": 11,
      "outputs": []
    },
    {
      "cell_type": "code",
      "source": [
        "model.summary()"
      ],
      "metadata": {
        "colab": {
          "base_uri": "https://localhost:8080/"
        },
        "id": "BxMtMhXYoA6-",
        "outputId": "204c47cf-7436-477a-bec0-3d1c10b21f29"
      },
      "execution_count": 12,
      "outputs": [
        {
          "output_type": "stream",
          "name": "stdout",
          "text": [
            "Model: \"sequential\"\n",
            "_________________________________________________________________\n",
            " Layer (type)                Output Shape              Param #   \n",
            "=================================================================\n",
            " dense (Dense)               (None, 3)                 24        \n",
            "                                                                 \n",
            " dropout (Dropout)           (None, 3)                 0         \n",
            "                                                                 \n",
            " dense_1 (Dense)             (None, 1)                 4         \n",
            "                                                                 \n",
            "=================================================================\n",
            "Total params: 28\n",
            "Trainable params: 28\n",
            "Non-trainable params: 0\n",
            "_________________________________________________________________\n"
          ]
        }
      ]
    },
    {
      "cell_type": "code",
      "source": [
        "model.compile(\n",
        "    optimizer='adam',\n",
        "    loss='mse',\n",
        "    metrics=['mae']\n",
        ")"
      ],
      "metadata": {
        "id": "uYYMiwrXmvc1"
      },
      "execution_count": 13,
      "outputs": []
    },
    {
      "cell_type": "code",
      "source": [
        "history = model.fit(\n",
        "    x=X_train, y=y_train,\n",
        "    batch_size=32,\n",
        "    epochs=100,\n",
        "    validation_data=(X_val, y_val)\n",
        ")"
      ],
      "metadata": {
        "colab": {
          "base_uri": "https://localhost:8080/"
        },
        "id": "YnGJrkk2mvZy",
        "outputId": "dc3f37ef-98bd-4481-d4c7-4452ec1464af"
      },
      "execution_count": 14,
      "outputs": [
        {
          "output_type": "stream",
          "name": "stdout",
          "text": [
            "Epoch 1/100\n",
            "10/10 [==============================] - 3s 96ms/step - loss: 0.5390 - mae: 0.7197 - val_loss: 0.5303 - val_mae: 0.7158\n",
            "Epoch 2/100\n",
            "10/10 [==============================] - 0s 11ms/step - loss: 0.5248 - mae: 0.7097 - val_loss: 0.5161 - val_mae: 0.7058\n",
            "Epoch 3/100\n",
            "10/10 [==============================] - 0s 18ms/step - loss: 0.5107 - mae: 0.6997 - val_loss: 0.5022 - val_mae: 0.6959\n",
            "Epoch 4/100\n",
            "10/10 [==============================] - 0s 17ms/step - loss: 0.4969 - mae: 0.6899 - val_loss: 0.4886 - val_mae: 0.6861\n",
            "Epoch 5/100\n",
            "10/10 [==============================] - 0s 17ms/step - loss: 0.4835 - mae: 0.6800 - val_loss: 0.4752 - val_mae: 0.6762\n",
            "Epoch 6/100\n",
            "10/10 [==============================] - 0s 15ms/step - loss: 0.4702 - mae: 0.6702 - val_loss: 0.4621 - val_mae: 0.6665\n",
            "Epoch 7/100\n",
            "10/10 [==============================] - 0s 29ms/step - loss: 0.4574 - mae: 0.6605 - val_loss: 0.4493 - val_mae: 0.6568\n",
            "Epoch 8/100\n",
            "10/10 [==============================] - 0s 18ms/step - loss: 0.4447 - mae: 0.6509 - val_loss: 0.4368 - val_mae: 0.6473\n",
            "Epoch 9/100\n",
            "10/10 [==============================] - 0s 29ms/step - loss: 0.4323 - mae: 0.6413 - val_loss: 0.4246 - val_mae: 0.6378\n",
            "Epoch 10/100\n",
            "10/10 [==============================] - 0s 25ms/step - loss: 0.4203 - mae: 0.6318 - val_loss: 0.4126 - val_mae: 0.6283\n",
            "Epoch 11/100\n",
            "10/10 [==============================] - 0s 17ms/step - loss: 0.4085 - mae: 0.6224 - val_loss: 0.4010 - val_mae: 0.6189\n",
            "Epoch 12/100\n",
            "10/10 [==============================] - 0s 11ms/step - loss: 0.3970 - mae: 0.6131 - val_loss: 0.3896 - val_mae: 0.6097\n",
            "Epoch 13/100\n",
            "10/10 [==============================] - 0s 17ms/step - loss: 0.3858 - mae: 0.6039 - val_loss: 0.3784 - val_mae: 0.6005\n",
            "Epoch 14/100\n",
            "10/10 [==============================] - 0s 16ms/step - loss: 0.3747 - mae: 0.5947 - val_loss: 0.3676 - val_mae: 0.5914\n",
            "Epoch 15/100\n",
            "10/10 [==============================] - 0s 23ms/step - loss: 0.3640 - mae: 0.5856 - val_loss: 0.3570 - val_mae: 0.5823\n",
            "Epoch 16/100\n",
            "10/10 [==============================] - 0s 22ms/step - loss: 0.3535 - mae: 0.5766 - val_loss: 0.3466 - val_mae: 0.5733\n",
            "Epoch 17/100\n",
            "10/10 [==============================] - 0s 22ms/step - loss: 0.3433 - mae: 0.5676 - val_loss: 0.3363 - val_mae: 0.5643\n",
            "Epoch 18/100\n",
            "10/10 [==============================] - 0s 19ms/step - loss: 0.3332 - mae: 0.5586 - val_loss: 0.3264 - val_mae: 0.5554\n",
            "Epoch 19/100\n",
            "10/10 [==============================] - 0s 21ms/step - loss: 0.3234 - mae: 0.5498 - val_loss: 0.3167 - val_mae: 0.5466\n",
            "Epoch 20/100\n",
            "10/10 [==============================] - 0s 11ms/step - loss: 0.3138 - mae: 0.5411 - val_loss: 0.3073 - val_mae: 0.5380\n",
            "Epoch 21/100\n",
            "10/10 [==============================] - 0s 12ms/step - loss: 0.3046 - mae: 0.5324 - val_loss: 0.2981 - val_mae: 0.5293\n",
            "Epoch 22/100\n",
            "10/10 [==============================] - 0s 21ms/step - loss: 0.2955 - mae: 0.5238 - val_loss: 0.2892 - val_mae: 0.5208\n",
            "Epoch 23/100\n",
            "10/10 [==============================] - 0s 20ms/step - loss: 0.2867 - mae: 0.5154 - val_loss: 0.2804 - val_mae: 0.5124\n",
            "Epoch 24/100\n",
            "10/10 [==============================] - 0s 18ms/step - loss: 0.2781 - mae: 0.5069 - val_loss: 0.2719 - val_mae: 0.5040\n",
            "Epoch 25/100\n",
            "10/10 [==============================] - 0s 20ms/step - loss: 0.2696 - mae: 0.4986 - val_loss: 0.2636 - val_mae: 0.4957\n",
            "Epoch 26/100\n",
            "10/10 [==============================] - 0s 15ms/step - loss: 0.2615 - mae: 0.4903 - val_loss: 0.2555 - val_mae: 0.4875\n",
            "Epoch 27/100\n",
            "10/10 [==============================] - 0s 18ms/step - loss: 0.2535 - mae: 0.4821 - val_loss: 0.2476 - val_mae: 0.4793\n",
            "Epoch 28/100\n",
            "10/10 [==============================] - 0s 12ms/step - loss: 0.2458 - mae: 0.4739 - val_loss: 0.2399 - val_mae: 0.4712\n",
            "Epoch 29/100\n",
            "10/10 [==============================] - 0s 14ms/step - loss: 0.2382 - mae: 0.4659 - val_loss: 0.2325 - val_mae: 0.4633\n",
            "Epoch 30/100\n",
            "10/10 [==============================] - 0s 16ms/step - loss: 0.2309 - mae: 0.4580 - val_loss: 0.2252 - val_mae: 0.4553\n",
            "Epoch 31/100\n",
            "10/10 [==============================] - 0s 12ms/step - loss: 0.2236 - mae: 0.4501 - val_loss: 0.2182 - val_mae: 0.4475\n",
            "Epoch 32/100\n",
            "10/10 [==============================] - 0s 20ms/step - loss: 0.2167 - mae: 0.4423 - val_loss: 0.2112 - val_mae: 0.4397\n",
            "Epoch 33/100\n",
            "10/10 [==============================] - 0s 11ms/step - loss: 0.2098 - mae: 0.4345 - val_loss: 0.2045 - val_mae: 0.4319\n",
            "Epoch 34/100\n",
            "10/10 [==============================] - 0s 14ms/step - loss: 0.2032 - mae: 0.4268 - val_loss: 0.1979 - val_mae: 0.4243\n",
            "Epoch 35/100\n",
            "10/10 [==============================] - 0s 14ms/step - loss: 0.1968 - mae: 0.4192 - val_loss: 0.1916 - val_mae: 0.4167\n",
            "Epoch 36/100\n",
            "10/10 [==============================] - 0s 18ms/step - loss: 0.1905 - mae: 0.4117 - val_loss: 0.1854 - val_mae: 0.4092\n",
            "Epoch 37/100\n",
            "10/10 [==============================] - 0s 27ms/step - loss: 0.1845 - mae: 0.4042 - val_loss: 0.1794 - val_mae: 0.4018\n",
            "Epoch 38/100\n",
            "10/10 [==============================] - 0s 33ms/step - loss: 0.1785 - mae: 0.3968 - val_loss: 0.1735 - val_mae: 0.3945\n",
            "Epoch 39/100\n",
            "10/10 [==============================] - 0s 23ms/step - loss: 0.1728 - mae: 0.3895 - val_loss: 0.1678 - val_mae: 0.3872\n",
            "Epoch 40/100\n",
            "10/10 [==============================] - 0s 46ms/step - loss: 0.1672 - mae: 0.3823 - val_loss: 0.1624 - val_mae: 0.3801\n",
            "Epoch 41/100\n",
            "10/10 [==============================] - 0s 34ms/step - loss: 0.1619 - mae: 0.3753 - val_loss: 0.1570 - val_mae: 0.3730\n",
            "Epoch 42/100\n",
            "10/10 [==============================] - 0s 27ms/step - loss: 0.1566 - mae: 0.3684 - val_loss: 0.1519 - val_mae: 0.3660\n",
            "Epoch 43/100\n",
            "10/10 [==============================] - 0s 23ms/step - loss: 0.1515 - mae: 0.3615 - val_loss: 0.1468 - val_mae: 0.3591\n",
            "Epoch 44/100\n",
            "10/10 [==============================] - 0s 35ms/step - loss: 0.1466 - mae: 0.3548 - val_loss: 0.1419 - val_mae: 0.3522\n",
            "Epoch 45/100\n",
            "10/10 [==============================] - 0s 30ms/step - loss: 0.1418 - mae: 0.3481 - val_loss: 0.1372 - val_mae: 0.3455\n",
            "Epoch 46/100\n",
            "10/10 [==============================] - 0s 30ms/step - loss: 0.1371 - mae: 0.3416 - val_loss: 0.1326 - val_mae: 0.3387\n",
            "Epoch 47/100\n",
            "10/10 [==============================] - 0s 29ms/step - loss: 0.1326 - mae: 0.3352 - val_loss: 0.1282 - val_mae: 0.3321\n",
            "Epoch 48/100\n",
            "10/10 [==============================] - 0s 17ms/step - loss: 0.1283 - mae: 0.3289 - val_loss: 0.1238 - val_mae: 0.3255\n",
            "Epoch 49/100\n",
            "10/10 [==============================] - 0s 15ms/step - loss: 0.1240 - mae: 0.3226 - val_loss: 0.1197 - val_mae: 0.3191\n",
            "Epoch 50/100\n",
            "10/10 [==============================] - 0s 19ms/step - loss: 0.1200 - mae: 0.3165 - val_loss: 0.1156 - val_mae: 0.3126\n",
            "Epoch 51/100\n",
            "10/10 [==============================] - 0s 11ms/step - loss: 0.1160 - mae: 0.3104 - val_loss: 0.1118 - val_mae: 0.3064\n",
            "Epoch 52/100\n",
            "10/10 [==============================] - 0s 20ms/step - loss: 0.1122 - mae: 0.3045 - val_loss: 0.1080 - val_mae: 0.3002\n",
            "Epoch 53/100\n",
            "10/10 [==============================] - 0s 11ms/step - loss: 0.1085 - mae: 0.2987 - val_loss: 0.1043 - val_mae: 0.2942\n",
            "Epoch 54/100\n",
            "10/10 [==============================] - 0s 12ms/step - loss: 0.1049 - mae: 0.2930 - val_loss: 0.1008 - val_mae: 0.2883\n",
            "Epoch 55/100\n",
            "10/10 [==============================] - 0s 14ms/step - loss: 0.1015 - mae: 0.2874 - val_loss: 0.0974 - val_mae: 0.2825\n",
            "Epoch 56/100\n",
            "10/10 [==============================] - 0s 15ms/step - loss: 0.0981 - mae: 0.2819 - val_loss: 0.0941 - val_mae: 0.2768\n",
            "Epoch 57/100\n",
            "10/10 [==============================] - 0s 19ms/step - loss: 0.0949 - mae: 0.2765 - val_loss: 0.0909 - val_mae: 0.2713\n",
            "Epoch 58/100\n",
            "10/10 [==============================] - 0s 19ms/step - loss: 0.0918 - mae: 0.2712 - val_loss: 0.0878 - val_mae: 0.2661\n",
            "Epoch 59/100\n",
            "10/10 [==============================] - 0s 14ms/step - loss: 0.0888 - mae: 0.2661 - val_loss: 0.0849 - val_mae: 0.2611\n",
            "Epoch 60/100\n",
            "10/10 [==============================] - 0s 11ms/step - loss: 0.0859 - mae: 0.2610 - val_loss: 0.0821 - val_mae: 0.2562\n",
            "Epoch 61/100\n",
            "10/10 [==============================] - 0s 15ms/step - loss: 0.0831 - mae: 0.2562 - val_loss: 0.0793 - val_mae: 0.2513\n",
            "Epoch 62/100\n",
            "10/10 [==============================] - 0s 14ms/step - loss: 0.0804 - mae: 0.2515 - val_loss: 0.0766 - val_mae: 0.2466\n",
            "Epoch 63/100\n",
            "10/10 [==============================] - 0s 19ms/step - loss: 0.0778 - mae: 0.2468 - val_loss: 0.0740 - val_mae: 0.2419\n",
            "Epoch 64/100\n",
            "10/10 [==============================] - 0s 23ms/step - loss: 0.0752 - mae: 0.2423 - val_loss: 0.0716 - val_mae: 0.2375\n",
            "Epoch 65/100\n",
            "10/10 [==============================] - 0s 23ms/step - loss: 0.0729 - mae: 0.2380 - val_loss: 0.0692 - val_mae: 0.2330\n",
            "Epoch 66/100\n",
            "10/10 [==============================] - 0s 13ms/step - loss: 0.0705 - mae: 0.2337 - val_loss: 0.0669 - val_mae: 0.2286\n",
            "Epoch 67/100\n",
            "10/10 [==============================] - 0s 19ms/step - loss: 0.0682 - mae: 0.2294 - val_loss: 0.0646 - val_mae: 0.2243\n",
            "Epoch 68/100\n",
            "10/10 [==============================] - 0s 16ms/step - loss: 0.0661 - mae: 0.2252 - val_loss: 0.0624 - val_mae: 0.2200\n",
            "Epoch 69/100\n",
            "10/10 [==============================] - 0s 16ms/step - loss: 0.0640 - mae: 0.2212 - val_loss: 0.0604 - val_mae: 0.2159\n",
            "Epoch 70/100\n",
            "10/10 [==============================] - 0s 22ms/step - loss: 0.0620 - mae: 0.2173 - val_loss: 0.0584 - val_mae: 0.2120\n",
            "Epoch 71/100\n",
            "10/10 [==============================] - 0s 13ms/step - loss: 0.0601 - mae: 0.2136 - val_loss: 0.0565 - val_mae: 0.2080\n",
            "Epoch 72/100\n",
            "10/10 [==============================] - 0s 24ms/step - loss: 0.0582 - mae: 0.2099 - val_loss: 0.0547 - val_mae: 0.2043\n",
            "Epoch 73/100\n",
            "10/10 [==============================] - 0s 19ms/step - loss: 0.0565 - mae: 0.2062 - val_loss: 0.0530 - val_mae: 0.2006\n",
            "Epoch 74/100\n",
            "10/10 [==============================] - 0s 12ms/step - loss: 0.0547 - mae: 0.2027 - val_loss: 0.0513 - val_mae: 0.1972\n",
            "Epoch 75/100\n",
            "10/10 [==============================] - 0s 13ms/step - loss: 0.0531 - mae: 0.1993 - val_loss: 0.0497 - val_mae: 0.1939\n",
            "Epoch 76/100\n",
            "10/10 [==============================] - 0s 17ms/step - loss: 0.0516 - mae: 0.1959 - val_loss: 0.0482 - val_mae: 0.1907\n",
            "Epoch 77/100\n",
            "10/10 [==============================] - 0s 13ms/step - loss: 0.0501 - mae: 0.1926 - val_loss: 0.0467 - val_mae: 0.1874\n",
            "Epoch 78/100\n",
            "10/10 [==============================] - 0s 13ms/step - loss: 0.0486 - mae: 0.1895 - val_loss: 0.0453 - val_mae: 0.1843\n",
            "Epoch 79/100\n",
            "10/10 [==============================] - 0s 14ms/step - loss: 0.0472 - mae: 0.1863 - val_loss: 0.0439 - val_mae: 0.1812\n",
            "Epoch 80/100\n",
            "10/10 [==============================] - 0s 15ms/step - loss: 0.0459 - mae: 0.1834 - val_loss: 0.0426 - val_mae: 0.1782\n",
            "Epoch 81/100\n",
            "10/10 [==============================] - 0s 12ms/step - loss: 0.0447 - mae: 0.1805 - val_loss: 0.0414 - val_mae: 0.1754\n",
            "Epoch 82/100\n",
            "10/10 [==============================] - 0s 9ms/step - loss: 0.0435 - mae: 0.1778 - val_loss: 0.0402 - val_mae: 0.1726\n",
            "Epoch 83/100\n",
            "10/10 [==============================] - 0s 11ms/step - loss: 0.0423 - mae: 0.1753 - val_loss: 0.0390 - val_mae: 0.1699\n",
            "Epoch 84/100\n",
            "10/10 [==============================] - 0s 11ms/step - loss: 0.0412 - mae: 0.1727 - val_loss: 0.0380 - val_mae: 0.1675\n",
            "Epoch 85/100\n",
            "10/10 [==============================] - 0s 29ms/step - loss: 0.0402 - mae: 0.1704 - val_loss: 0.0370 - val_mae: 0.1650\n",
            "Epoch 86/100\n",
            "10/10 [==============================] - 0s 29ms/step - loss: 0.0392 - mae: 0.1680 - val_loss: 0.0359 - val_mae: 0.1624\n",
            "Epoch 87/100\n",
            "10/10 [==============================] - 0s 36ms/step - loss: 0.0382 - mae: 0.1657 - val_loss: 0.0350 - val_mae: 0.1600\n",
            "Epoch 88/100\n",
            "10/10 [==============================] - 0s 19ms/step - loss: 0.0373 - mae: 0.1634 - val_loss: 0.0341 - val_mae: 0.1577\n",
            "Epoch 89/100\n",
            "10/10 [==============================] - 0s 15ms/step - loss: 0.0364 - mae: 0.1612 - val_loss: 0.0332 - val_mae: 0.1555\n",
            "Epoch 90/100\n",
            "10/10 [==============================] - 0s 22ms/step - loss: 0.0356 - mae: 0.1592 - val_loss: 0.0324 - val_mae: 0.1532\n",
            "Epoch 91/100\n",
            "10/10 [==============================] - 0s 10ms/step - loss: 0.0348 - mae: 0.1571 - val_loss: 0.0316 - val_mae: 0.1511\n",
            "Epoch 92/100\n",
            "10/10 [==============================] - 0s 21ms/step - loss: 0.0340 - mae: 0.1550 - val_loss: 0.0309 - val_mae: 0.1490\n",
            "Epoch 93/100\n",
            "10/10 [==============================] - 0s 9ms/step - loss: 0.0333 - mae: 0.1532 - val_loss: 0.0301 - val_mae: 0.1470\n",
            "Epoch 94/100\n",
            "10/10 [==============================] - 0s 7ms/step - loss: 0.0326 - mae: 0.1513 - val_loss: 0.0295 - val_mae: 0.1451\n",
            "Epoch 95/100\n",
            "10/10 [==============================] - 0s 9ms/step - loss: 0.0320 - mae: 0.1495 - val_loss: 0.0288 - val_mae: 0.1433\n",
            "Epoch 96/100\n",
            "10/10 [==============================] - 0s 7ms/step - loss: 0.0314 - mae: 0.1479 - val_loss: 0.0282 - val_mae: 0.1415\n",
            "Epoch 97/100\n",
            "10/10 [==============================] - 0s 8ms/step - loss: 0.0308 - mae: 0.1463 - val_loss: 0.0276 - val_mae: 0.1398\n",
            "Epoch 98/100\n",
            "10/10 [==============================] - 0s 7ms/step - loss: 0.0302 - mae: 0.1448 - val_loss: 0.0271 - val_mae: 0.1380\n",
            "Epoch 99/100\n",
            "10/10 [==============================] - 0s 8ms/step - loss: 0.0297 - mae: 0.1433 - val_loss: 0.0266 - val_mae: 0.1366\n",
            "Epoch 100/100\n",
            "10/10 [==============================] - 0s 9ms/step - loss: 0.0292 - mae: 0.1420 - val_loss: 0.0261 - val_mae: 0.1351\n"
          ]
        }
      ]
    },
    {
      "cell_type": "code",
      "source": [
        "# importando \"libs\" para visualização gráfica e para ajustes de parâmetros e etc\n",
        "import matplotlib.pyplot as plt\n",
        "\n",
        "from pylab import rcParams\n",
        "\n",
        "%matplotlib inline\n",
        "# plt.style.use('ggplot')\n",
        "plt.style.use('fivethirtyeight')\n",
        "rcParams['figure.figsize'] = 10, 5"
      ],
      "metadata": {
        "id": "wkD22yAfoIxA"
      },
      "execution_count": 15,
      "outputs": []
    },
    {
      "cell_type": "code",
      "source": [
        "plt.plot(history.history['loss'])\n",
        "plt.plot(history.history['val_loss'])\n",
        "\n",
        "plt.title('History\\n', size=20)\n",
        "plt.xlabel('\\nepochs')\n",
        "plt.ylabel('loss\\n')\n",
        "plt.legend(['train loss', 'val loss'])\n",
        "plt.show()"
      ],
      "metadata": {
        "colab": {
          "base_uri": "https://localhost:8080/",
          "height": 426
        },
        "id": "TAklkKNMoIvQ",
        "outputId": "05f3ac1c-547c-4d9a-ba37-d50fc7f0e74f"
      },
      "execution_count": 16,
      "outputs": [
        {
          "output_type": "display_data",
          "data": {
            "text/plain": [
              "<Figure size 720x360 with 1 Axes>"
            ],
            "image/png": "[encoded data removed]"
          },
          "metadata": {}
        }
      ]
    },
    {
      "cell_type": "code",
      "source": [],
      "metadata": {
        "id": "jImsy1yVoIrE"
      },
      "execution_count": 16,
      "outputs": []
    },
    {
      "cell_type": "code",
      "source": [],
      "metadata": {
        "id": "PR68TTkmoIpl"
      },
      "execution_count": 16,
      "outputs": []
    },
    {
      "cell_type": "code",
      "source": [],
      "metadata": {
        "id": "cwLTpdj7oIck"
      },
      "execution_count": 16,
      "outputs": []
    }
  ]
}